{
 "cells": [
  {
   "cell_type": "markdown",
   "id": "ca4444de",
   "metadata": {},
   "source": [
    "# 1. Import Libaries"
   ]
  },
  {
   "cell_type": "code",
   "execution_count": 1,
   "id": "d39aa86f",
   "metadata": {},
   "outputs": [
    {
     "name": "stderr",
     "output_type": "stream",
     "text": [
      "Matplotlib is building the font cache; this may take a moment.\n"
     ]
    }
   ],
   "source": [
    "import pandas as pd\n",
    "import numpy as np\n",
    "import matplotlib.pyplot as plt\n",
    "import seaborn as sns\n",
    "%matplotlib inline\n",
    "\n",
    "plt.rcParams[\"figure.figsize\"] = (7,4)\n",
    "import warnings\n",
    "warnings.filterwarnings(\"ignore\")\n",
    "warnings.warn(\"this will not show\")"
   ]
  },
  {
   "cell_type": "code",
   "execution_count": 42,
   "id": "f9c0fce0",
   "metadata": {},
   "outputs": [],
   "source": [
    "from sklearn.metrics import mean_squared_error, mean_absolute_error, r2_score\n",
    "from sklearn.model_selection import train_test_split"
   ]
  },
  {
   "cell_type": "code",
   "execution_count": 2,
   "id": "c5f3a6cc",
   "metadata": {},
   "outputs": [],
   "source": [
    "pd.set_option(\"display.max_columns\", 500)\n",
    "pd.set_option(\"display.max_rows\", 1000)"
   ]
  },
  {
   "cell_type": "code",
   "execution_count": 3,
   "id": "3a1f0f1b",
   "metadata": {},
   "outputs": [
    {
     "data": {
      "text/html": [
       "<div>\n",
       "<style scoped>\n",
       "    .dataframe tbody tr th:only-of-type {\n",
       "        vertical-align: middle;\n",
       "    }\n",
       "\n",
       "    .dataframe tbody tr th {\n",
       "        vertical-align: top;\n",
       "    }\n",
       "\n",
       "    .dataframe thead th {\n",
       "        text-align: right;\n",
       "    }\n",
       "</style>\n",
       "<table border=\"1\" class=\"dataframe\">\n",
       "  <thead>\n",
       "    <tr style=\"text-align: right;\">\n",
       "      <th></th>\n",
       "      <th>make_model</th>\n",
       "      <th>body_type</th>\n",
       "      <th>price</th>\n",
       "      <th>vat</th>\n",
       "      <th>km</th>\n",
       "      <th>Type</th>\n",
       "      <th>Fuel</th>\n",
       "      <th>Gears</th>\n",
       "      <th>Comfort_Convenience</th>\n",
       "      <th>Entertainment_Media</th>\n",
       "      <th>Extras</th>\n",
       "      <th>Safety_Security</th>\n",
       "      <th>age</th>\n",
       "      <th>Previous_Owners</th>\n",
       "      <th>hp_kW</th>\n",
       "      <th>Inspection_new</th>\n",
       "      <th>Paint_Type</th>\n",
       "      <th>Upholstery_type</th>\n",
       "      <th>Gearing_Type</th>\n",
       "      <th>Displacement_cc</th>\n",
       "      <th>Weight_kg</th>\n",
       "      <th>Drive_chain</th>\n",
       "      <th>cons_comb</th>\n",
       "    </tr>\n",
       "  </thead>\n",
       "  <tbody>\n",
       "    <tr>\n",
       "      <th>0</th>\n",
       "      <td>Audi A1</td>\n",
       "      <td>Sedans</td>\n",
       "      <td>15770</td>\n",
       "      <td>VAT deductible</td>\n",
       "      <td>56013.0</td>\n",
       "      <td>Used</td>\n",
       "      <td>Diesel</td>\n",
       "      <td>7.0</td>\n",
       "      <td>Air conditioning,Armrest,Automatic climate con...</td>\n",
       "      <td>Bluetooth,Hands-free equipment,On-board comput...</td>\n",
       "      <td>Alloy wheels,Catalytic Converter,Voice Control</td>\n",
       "      <td>ABS,Central door lock,Daytime running lights,D...</td>\n",
       "      <td>3.0</td>\n",
       "      <td>2.0</td>\n",
       "      <td>66.0</td>\n",
       "      <td>1</td>\n",
       "      <td>Metallic</td>\n",
       "      <td>Cloth</td>\n",
       "      <td>Automatic</td>\n",
       "      <td>1422.0</td>\n",
       "      <td>1220.0</td>\n",
       "      <td>front</td>\n",
       "      <td>3.8</td>\n",
       "    </tr>\n",
       "    <tr>\n",
       "      <th>1</th>\n",
       "      <td>Audi A1</td>\n",
       "      <td>Sedans</td>\n",
       "      <td>14500</td>\n",
       "      <td>Price negotiable</td>\n",
       "      <td>80000.0</td>\n",
       "      <td>Used</td>\n",
       "      <td>Benzine</td>\n",
       "      <td>7.0</td>\n",
       "      <td>Air conditioning,Automatic climate control,Hil...</td>\n",
       "      <td>Bluetooth,Hands-free equipment,On-board comput...</td>\n",
       "      <td>Alloy wheels,Sport seats,Sport suspension,Voic...</td>\n",
       "      <td>ABS,Central door lock,Central door lock with r...</td>\n",
       "      <td>2.0</td>\n",
       "      <td>1.0</td>\n",
       "      <td>141.0</td>\n",
       "      <td>0</td>\n",
       "      <td>Metallic</td>\n",
       "      <td>Cloth</td>\n",
       "      <td>Automatic</td>\n",
       "      <td>1798.0</td>\n",
       "      <td>1255.0</td>\n",
       "      <td>front</td>\n",
       "      <td>5.6</td>\n",
       "    </tr>\n",
       "    <tr>\n",
       "      <th>2</th>\n",
       "      <td>Audi A1</td>\n",
       "      <td>Sedans</td>\n",
       "      <td>14640</td>\n",
       "      <td>VAT deductible</td>\n",
       "      <td>83450.0</td>\n",
       "      <td>Used</td>\n",
       "      <td>Diesel</td>\n",
       "      <td>7.0</td>\n",
       "      <td>Air conditioning,Cruise control,Electrical sid...</td>\n",
       "      <td>MP3,On-board computer</td>\n",
       "      <td>Alloy wheels,Voice Control</td>\n",
       "      <td>ABS,Central door lock,Daytime running lights,D...</td>\n",
       "      <td>3.0</td>\n",
       "      <td>1.0</td>\n",
       "      <td>85.0</td>\n",
       "      <td>0</td>\n",
       "      <td>Metallic</td>\n",
       "      <td>Cloth</td>\n",
       "      <td>Automatic</td>\n",
       "      <td>1598.0</td>\n",
       "      <td>1135.0</td>\n",
       "      <td>front</td>\n",
       "      <td>3.8</td>\n",
       "    </tr>\n",
       "    <tr>\n",
       "      <th>3</th>\n",
       "      <td>Audi A1</td>\n",
       "      <td>Sedans</td>\n",
       "      <td>14500</td>\n",
       "      <td>VAT deductible</td>\n",
       "      <td>73000.0</td>\n",
       "      <td>Used</td>\n",
       "      <td>Diesel</td>\n",
       "      <td>6.0</td>\n",
       "      <td>Air suspension,Armrest,Auxiliary heating,Elect...</td>\n",
       "      <td>Bluetooth,CD player,Hands-free equipment,MP3,O...</td>\n",
       "      <td>Alloy wheels,Sport seats,Voice Control</td>\n",
       "      <td>ABS,Alarm system,Central door lock with remote...</td>\n",
       "      <td>3.0</td>\n",
       "      <td>1.0</td>\n",
       "      <td>66.0</td>\n",
       "      <td>0</td>\n",
       "      <td>Metallic</td>\n",
       "      <td>Cloth</td>\n",
       "      <td>Automatic</td>\n",
       "      <td>1422.0</td>\n",
       "      <td>1195.0</td>\n",
       "      <td>front</td>\n",
       "      <td>3.8</td>\n",
       "    </tr>\n",
       "    <tr>\n",
       "      <th>4</th>\n",
       "      <td>Audi A1</td>\n",
       "      <td>Sedans</td>\n",
       "      <td>16790</td>\n",
       "      <td>VAT deductible</td>\n",
       "      <td>16200.0</td>\n",
       "      <td>Used</td>\n",
       "      <td>Diesel</td>\n",
       "      <td>7.0</td>\n",
       "      <td>Air conditioning,Armrest,Automatic climate con...</td>\n",
       "      <td>Bluetooth,CD player,Hands-free equipment,MP3,O...</td>\n",
       "      <td>Alloy wheels,Sport package,Sport suspension,Vo...</td>\n",
       "      <td>ABS,Central door lock,Driver-side airbag,Elect...</td>\n",
       "      <td>3.0</td>\n",
       "      <td>1.0</td>\n",
       "      <td>66.0</td>\n",
       "      <td>1</td>\n",
       "      <td>Metallic</td>\n",
       "      <td>Cloth</td>\n",
       "      <td>Automatic</td>\n",
       "      <td>1422.0</td>\n",
       "      <td>1135.0</td>\n",
       "      <td>front</td>\n",
       "      <td>4.1</td>\n",
       "    </tr>\n",
       "  </tbody>\n",
       "</table>\n",
       "</div>"
      ],
      "text/plain": [
       "  make_model body_type  price               vat       km  Type     Fuel  \\\n",
       "0    Audi A1    Sedans  15770    VAT deductible  56013.0  Used   Diesel   \n",
       "1    Audi A1    Sedans  14500  Price negotiable  80000.0  Used  Benzine   \n",
       "2    Audi A1    Sedans  14640    VAT deductible  83450.0  Used   Diesel   \n",
       "3    Audi A1    Sedans  14500    VAT deductible  73000.0  Used   Diesel   \n",
       "4    Audi A1    Sedans  16790    VAT deductible  16200.0  Used   Diesel   \n",
       "\n",
       "   Gears                                Comfort_Convenience  \\\n",
       "0    7.0  Air conditioning,Armrest,Automatic climate con...   \n",
       "1    7.0  Air conditioning,Automatic climate control,Hil...   \n",
       "2    7.0  Air conditioning,Cruise control,Electrical sid...   \n",
       "3    6.0  Air suspension,Armrest,Auxiliary heating,Elect...   \n",
       "4    7.0  Air conditioning,Armrest,Automatic climate con...   \n",
       "\n",
       "                                 Entertainment_Media  \\\n",
       "0  Bluetooth,Hands-free equipment,On-board comput...   \n",
       "1  Bluetooth,Hands-free equipment,On-board comput...   \n",
       "2                              MP3,On-board computer   \n",
       "3  Bluetooth,CD player,Hands-free equipment,MP3,O...   \n",
       "4  Bluetooth,CD player,Hands-free equipment,MP3,O...   \n",
       "\n",
       "                                              Extras  \\\n",
       "0     Alloy wheels,Catalytic Converter,Voice Control   \n",
       "1  Alloy wheels,Sport seats,Sport suspension,Voic...   \n",
       "2                         Alloy wheels,Voice Control   \n",
       "3             Alloy wheels,Sport seats,Voice Control   \n",
       "4  Alloy wheels,Sport package,Sport suspension,Vo...   \n",
       "\n",
       "                                     Safety_Security  age  Previous_Owners  \\\n",
       "0  ABS,Central door lock,Daytime running lights,D...  3.0              2.0   \n",
       "1  ABS,Central door lock,Central door lock with r...  2.0              1.0   \n",
       "2  ABS,Central door lock,Daytime running lights,D...  3.0              1.0   \n",
       "3  ABS,Alarm system,Central door lock with remote...  3.0              1.0   \n",
       "4  ABS,Central door lock,Driver-side airbag,Elect...  3.0              1.0   \n",
       "\n",
       "   hp_kW  Inspection_new Paint_Type Upholstery_type Gearing_Type  \\\n",
       "0   66.0               1   Metallic           Cloth    Automatic   \n",
       "1  141.0               0   Metallic           Cloth    Automatic   \n",
       "2   85.0               0   Metallic           Cloth    Automatic   \n",
       "3   66.0               0   Metallic           Cloth    Automatic   \n",
       "4   66.0               1   Metallic           Cloth    Automatic   \n",
       "\n",
       "   Displacement_cc  Weight_kg Drive_chain  cons_comb  \n",
       "0           1422.0     1220.0       front        3.8  \n",
       "1           1798.0     1255.0       front        5.6  \n",
       "2           1598.0     1135.0       front        3.8  \n",
       "3           1422.0     1195.0       front        3.8  \n",
       "4           1422.0     1135.0       front        4.1  "
      ]
     },
     "execution_count": 3,
     "metadata": {},
     "output_type": "execute_result"
    }
   ],
   "source": [
    "df = pd.read_csv('final_scout_not_dummy.csv')\n",
    "df.head()"
   ]
  },
  {
   "cell_type": "markdown",
   "id": "80a1546a",
   "metadata": {},
   "source": [
    "# 2. Exploratory Data Analysis and Visualization"
   ]
  },
  {
   "cell_type": "markdown",
   "id": "16907cb6",
   "metadata": {},
   "source": [
    "**(EDA & DV)**"
   ]
  },
  {
   "cell_type": "code",
   "execution_count": 4,
   "id": "5a38018a",
   "metadata": {},
   "outputs": [
    {
     "name": "stdout",
     "output_type": "stream",
     "text": [
      "<class 'pandas.core.frame.DataFrame'>\n",
      "RangeIndex: 15915 entries, 0 to 15914\n",
      "Data columns (total 23 columns):\n",
      " #   Column               Non-Null Count  Dtype  \n",
      "---  ------               --------------  -----  \n",
      " 0   make_model           15915 non-null  object \n",
      " 1   body_type            15915 non-null  object \n",
      " 2   price                15915 non-null  int64  \n",
      " 3   vat                  15915 non-null  object \n",
      " 4   km                   15915 non-null  float64\n",
      " 5   Type                 15915 non-null  object \n",
      " 6   Fuel                 15915 non-null  object \n",
      " 7   Gears                15915 non-null  float64\n",
      " 8   Comfort_Convenience  15915 non-null  object \n",
      " 9   Entertainment_Media  15915 non-null  object \n",
      " 10  Extras               15915 non-null  object \n",
      " 11  Safety_Security      15915 non-null  object \n",
      " 12  age                  15915 non-null  float64\n",
      " 13  Previous_Owners      15915 non-null  float64\n",
      " 14  hp_kW                15915 non-null  float64\n",
      " 15  Inspection_new       15915 non-null  int64  \n",
      " 16  Paint_Type           15915 non-null  object \n",
      " 17  Upholstery_type      15915 non-null  object \n",
      " 18  Gearing_Type         15915 non-null  object \n",
      " 19  Displacement_cc      15915 non-null  float64\n",
      " 20  Weight_kg            15915 non-null  float64\n",
      " 21  Drive_chain          15915 non-null  object \n",
      " 22  cons_comb            15915 non-null  float64\n",
      "dtypes: float64(8), int64(2), object(13)\n",
      "memory usage: 2.8+ MB\n"
     ]
    }
   ],
   "source": [
    "df.info()"
   ]
  },
  {
   "cell_type": "code",
   "execution_count": 5,
   "id": "392c6235",
   "metadata": {},
   "outputs": [
    {
     "data": {
      "text/plain": [
       "(15915, 23)"
      ]
     },
     "execution_count": 5,
     "metadata": {},
     "output_type": "execute_result"
    }
   ],
   "source": [
    "df.shape"
   ]
  },
  {
   "cell_type": "code",
   "execution_count": 6,
   "id": "8e676733",
   "metadata": {},
   "outputs": [
    {
     "data": {
      "text/html": [
       "<div>\n",
       "<style scoped>\n",
       "    .dataframe tbody tr th:only-of-type {\n",
       "        vertical-align: middle;\n",
       "    }\n",
       "\n",
       "    .dataframe tbody tr th {\n",
       "        vertical-align: top;\n",
       "    }\n",
       "\n",
       "    .dataframe thead th {\n",
       "        text-align: right;\n",
       "    }\n",
       "</style>\n",
       "<table border=\"1\" class=\"dataframe\">\n",
       "  <thead>\n",
       "    <tr style=\"text-align: right;\">\n",
       "      <th></th>\n",
       "      <th>price</th>\n",
       "      <th>km</th>\n",
       "      <th>Gears</th>\n",
       "      <th>age</th>\n",
       "      <th>Previous_Owners</th>\n",
       "      <th>hp_kW</th>\n",
       "      <th>Inspection_new</th>\n",
       "      <th>Displacement_cc</th>\n",
       "      <th>Weight_kg</th>\n",
       "      <th>cons_comb</th>\n",
       "    </tr>\n",
       "  </thead>\n",
       "  <tbody>\n",
       "    <tr>\n",
       "      <th>count</th>\n",
       "      <td>15915.000000</td>\n",
       "      <td>15915.000000</td>\n",
       "      <td>15915.000000</td>\n",
       "      <td>15915.000000</td>\n",
       "      <td>15915.000000</td>\n",
       "      <td>15915.000000</td>\n",
       "      <td>15915.000000</td>\n",
       "      <td>15915.000000</td>\n",
       "      <td>15915.000000</td>\n",
       "      <td>15915.000000</td>\n",
       "    </tr>\n",
       "    <tr>\n",
       "      <th>mean</th>\n",
       "      <td>18024.380584</td>\n",
       "      <td>32089.995708</td>\n",
       "      <td>5.937355</td>\n",
       "      <td>1.389695</td>\n",
       "      <td>1.042853</td>\n",
       "      <td>88.499340</td>\n",
       "      <td>0.247063</td>\n",
       "      <td>1428.661891</td>\n",
       "      <td>1337.700534</td>\n",
       "      <td>4.832124</td>\n",
       "    </tr>\n",
       "    <tr>\n",
       "      <th>std</th>\n",
       "      <td>7381.679318</td>\n",
       "      <td>36977.214964</td>\n",
       "      <td>0.704772</td>\n",
       "      <td>1.121306</td>\n",
       "      <td>0.339178</td>\n",
       "      <td>26.674341</td>\n",
       "      <td>0.431317</td>\n",
       "      <td>275.804272</td>\n",
       "      <td>199.682385</td>\n",
       "      <td>0.867530</td>\n",
       "    </tr>\n",
       "    <tr>\n",
       "      <th>min</th>\n",
       "      <td>4950.000000</td>\n",
       "      <td>0.000000</td>\n",
       "      <td>5.000000</td>\n",
       "      <td>0.000000</td>\n",
       "      <td>0.000000</td>\n",
       "      <td>40.000000</td>\n",
       "      <td>0.000000</td>\n",
       "      <td>890.000000</td>\n",
       "      <td>840.000000</td>\n",
       "      <td>3.000000</td>\n",
       "    </tr>\n",
       "    <tr>\n",
       "      <th>25%</th>\n",
       "      <td>12850.000000</td>\n",
       "      <td>1920.500000</td>\n",
       "      <td>5.000000</td>\n",
       "      <td>0.000000</td>\n",
       "      <td>1.000000</td>\n",
       "      <td>66.000000</td>\n",
       "      <td>0.000000</td>\n",
       "      <td>1229.000000</td>\n",
       "      <td>1165.000000</td>\n",
       "      <td>4.100000</td>\n",
       "    </tr>\n",
       "    <tr>\n",
       "      <th>50%</th>\n",
       "      <td>16900.000000</td>\n",
       "      <td>20413.000000</td>\n",
       "      <td>6.000000</td>\n",
       "      <td>1.000000</td>\n",
       "      <td>1.000000</td>\n",
       "      <td>85.000000</td>\n",
       "      <td>0.000000</td>\n",
       "      <td>1461.000000</td>\n",
       "      <td>1295.000000</td>\n",
       "      <td>4.800000</td>\n",
       "    </tr>\n",
       "    <tr>\n",
       "      <th>75%</th>\n",
       "      <td>21900.000000</td>\n",
       "      <td>46900.000000</td>\n",
       "      <td>6.000000</td>\n",
       "      <td>2.000000</td>\n",
       "      <td>1.000000</td>\n",
       "      <td>103.000000</td>\n",
       "      <td>0.000000</td>\n",
       "      <td>1598.000000</td>\n",
       "      <td>1472.000000</td>\n",
       "      <td>5.400000</td>\n",
       "    </tr>\n",
       "    <tr>\n",
       "      <th>max</th>\n",
       "      <td>74600.000000</td>\n",
       "      <td>317000.000000</td>\n",
       "      <td>8.000000</td>\n",
       "      <td>3.000000</td>\n",
       "      <td>4.000000</td>\n",
       "      <td>294.000000</td>\n",
       "      <td>1.000000</td>\n",
       "      <td>2967.000000</td>\n",
       "      <td>2471.000000</td>\n",
       "      <td>9.100000</td>\n",
       "    </tr>\n",
       "  </tbody>\n",
       "</table>\n",
       "</div>"
      ],
      "text/plain": [
       "              price             km         Gears           age  \\\n",
       "count  15915.000000   15915.000000  15915.000000  15915.000000   \n",
       "mean   18024.380584   32089.995708      5.937355      1.389695   \n",
       "std     7381.679318   36977.214964      0.704772      1.121306   \n",
       "min     4950.000000       0.000000      5.000000      0.000000   \n",
       "25%    12850.000000    1920.500000      5.000000      0.000000   \n",
       "50%    16900.000000   20413.000000      6.000000      1.000000   \n",
       "75%    21900.000000   46900.000000      6.000000      2.000000   \n",
       "max    74600.000000  317000.000000      8.000000      3.000000   \n",
       "\n",
       "       Previous_Owners         hp_kW  Inspection_new  Displacement_cc  \\\n",
       "count     15915.000000  15915.000000    15915.000000     15915.000000   \n",
       "mean          1.042853     88.499340        0.247063      1428.661891   \n",
       "std           0.339178     26.674341        0.431317       275.804272   \n",
       "min           0.000000     40.000000        0.000000       890.000000   \n",
       "25%           1.000000     66.000000        0.000000      1229.000000   \n",
       "50%           1.000000     85.000000        0.000000      1461.000000   \n",
       "75%           1.000000    103.000000        0.000000      1598.000000   \n",
       "max           4.000000    294.000000        1.000000      2967.000000   \n",
       "\n",
       "          Weight_kg     cons_comb  \n",
       "count  15915.000000  15915.000000  \n",
       "mean    1337.700534      4.832124  \n",
       "std      199.682385      0.867530  \n",
       "min      840.000000      3.000000  \n",
       "25%     1165.000000      4.100000  \n",
       "50%     1295.000000      4.800000  \n",
       "75%     1472.000000      5.400000  \n",
       "max     2471.000000      9.100000  "
      ]
     },
     "execution_count": 6,
     "metadata": {},
     "output_type": "execute_result"
    }
   ],
   "source": [
    "df.describe()"
   ]
  },
  {
   "cell_type": "code",
   "execution_count": 7,
   "id": "85ace0ea",
   "metadata": {},
   "outputs": [
    {
     "data": {
      "text/plain": [
       "1673"
      ]
     },
     "execution_count": 7,
     "metadata": {},
     "output_type": "execute_result"
    }
   ],
   "source": [
    "df.duplicated().sum()"
   ]
  },
  {
   "cell_type": "code",
   "execution_count": 8,
   "id": "382fc1d2",
   "metadata": {},
   "outputs": [],
   "source": [
    "df.drop_duplicates(inplace = True)"
   ]
  },
  {
   "cell_type": "code",
   "execution_count": 9,
   "id": "b75ab69e",
   "metadata": {},
   "outputs": [
    {
     "data": {
      "text/plain": [
       "0"
      ]
     },
     "execution_count": 9,
     "metadata": {},
     "output_type": "execute_result"
    }
   ],
   "source": [
    "df.duplicated().sum()"
   ]
  },
  {
   "cell_type": "code",
   "execution_count": 10,
   "id": "020c7360",
   "metadata": {},
   "outputs": [
    {
     "data": {
      "text/plain": [
       "make_model\n",
       "Audi A3           2758\n",
       "Opel Insignia     2417\n",
       "Audi A1           2377\n",
       "Opel Astra        2305\n",
       "Opel Corsa        1994\n",
       "Renault Clio      1486\n",
       "Renault Espace     884\n",
       "Renault Duster      20\n",
       "Audi A2              1\n",
       "Name: count, dtype: int64"
      ]
     },
     "execution_count": 10,
     "metadata": {},
     "output_type": "execute_result"
    }
   ],
   "source": [
    "df[\"make_model\"].value_counts()"
   ]
  },
  {
   "cell_type": "markdown",
   "id": "4911c11e",
   "metadata": {},
   "source": [
    "## Feature Engineering"
   ]
  },
  {
   "cell_type": "markdown",
   "id": "8734614e",
   "metadata": {},
   "source": [
    "Converting object to numeric \n",
    "(Comfort_Convenience, Entertainment_Media, Extras, Safety_Security)"
   ]
  },
  {
   "cell_type": "code",
   "execution_count": 11,
   "id": "7dbd7c76",
   "metadata": {},
   "outputs": [
    {
     "data": {
      "text/html": [
       "<div>\n",
       "<style scoped>\n",
       "    .dataframe tbody tr th:only-of-type {\n",
       "        vertical-align: middle;\n",
       "    }\n",
       "\n",
       "    .dataframe tbody tr th {\n",
       "        vertical-align: top;\n",
       "    }\n",
       "\n",
       "    .dataframe thead th {\n",
       "        text-align: right;\n",
       "    }\n",
       "</style>\n",
       "<table border=\"1\" class=\"dataframe\">\n",
       "  <thead>\n",
       "    <tr style=\"text-align: right;\">\n",
       "      <th></th>\n",
       "      <th>make_model</th>\n",
       "      <th>body_type</th>\n",
       "      <th>price</th>\n",
       "      <th>vat</th>\n",
       "      <th>km</th>\n",
       "      <th>Type</th>\n",
       "      <th>Fuel</th>\n",
       "      <th>Gears</th>\n",
       "      <th>Comfort_Convenience</th>\n",
       "      <th>Entertainment_Media</th>\n",
       "      <th>Extras</th>\n",
       "      <th>Safety_Security</th>\n",
       "      <th>age</th>\n",
       "      <th>Previous_Owners</th>\n",
       "      <th>hp_kW</th>\n",
       "      <th>Inspection_new</th>\n",
       "      <th>Paint_Type</th>\n",
       "      <th>Upholstery_type</th>\n",
       "      <th>Gearing_Type</th>\n",
       "      <th>Displacement_cc</th>\n",
       "      <th>Weight_kg</th>\n",
       "      <th>Drive_chain</th>\n",
       "      <th>cons_comb</th>\n",
       "    </tr>\n",
       "  </thead>\n",
       "  <tbody>\n",
       "    <tr>\n",
       "      <th>0</th>\n",
       "      <td>Audi A1</td>\n",
       "      <td>Sedans</td>\n",
       "      <td>15770</td>\n",
       "      <td>VAT deductible</td>\n",
       "      <td>56013.0</td>\n",
       "      <td>Used</td>\n",
       "      <td>Diesel</td>\n",
       "      <td>7.0</td>\n",
       "      <td>Air conditioning,Armrest,Automatic climate con...</td>\n",
       "      <td>Bluetooth,Hands-free equipment,On-board comput...</td>\n",
       "      <td>Alloy wheels,Catalytic Converter,Voice Control</td>\n",
       "      <td>ABS,Central door lock,Daytime running lights,D...</td>\n",
       "      <td>3.0</td>\n",
       "      <td>2.0</td>\n",
       "      <td>66.0</td>\n",
       "      <td>1</td>\n",
       "      <td>Metallic</td>\n",
       "      <td>Cloth</td>\n",
       "      <td>Automatic</td>\n",
       "      <td>1422.0</td>\n",
       "      <td>1220.0</td>\n",
       "      <td>front</td>\n",
       "      <td>3.8</td>\n",
       "    </tr>\n",
       "    <tr>\n",
       "      <th>1</th>\n",
       "      <td>Audi A1</td>\n",
       "      <td>Sedans</td>\n",
       "      <td>14500</td>\n",
       "      <td>Price negotiable</td>\n",
       "      <td>80000.0</td>\n",
       "      <td>Used</td>\n",
       "      <td>Benzine</td>\n",
       "      <td>7.0</td>\n",
       "      <td>Air conditioning,Automatic climate control,Hil...</td>\n",
       "      <td>Bluetooth,Hands-free equipment,On-board comput...</td>\n",
       "      <td>Alloy wheels,Sport seats,Sport suspension,Voic...</td>\n",
       "      <td>ABS,Central door lock,Central door lock with r...</td>\n",
       "      <td>2.0</td>\n",
       "      <td>1.0</td>\n",
       "      <td>141.0</td>\n",
       "      <td>0</td>\n",
       "      <td>Metallic</td>\n",
       "      <td>Cloth</td>\n",
       "      <td>Automatic</td>\n",
       "      <td>1798.0</td>\n",
       "      <td>1255.0</td>\n",
       "      <td>front</td>\n",
       "      <td>5.6</td>\n",
       "    </tr>\n",
       "  </tbody>\n",
       "</table>\n",
       "</div>"
      ],
      "text/plain": [
       "  make_model body_type  price               vat       km  Type     Fuel  \\\n",
       "0    Audi A1    Sedans  15770    VAT deductible  56013.0  Used   Diesel   \n",
       "1    Audi A1    Sedans  14500  Price negotiable  80000.0  Used  Benzine   \n",
       "\n",
       "   Gears                                Comfort_Convenience  \\\n",
       "0    7.0  Air conditioning,Armrest,Automatic climate con...   \n",
       "1    7.0  Air conditioning,Automatic climate control,Hil...   \n",
       "\n",
       "                                 Entertainment_Media  \\\n",
       "0  Bluetooth,Hands-free equipment,On-board comput...   \n",
       "1  Bluetooth,Hands-free equipment,On-board comput...   \n",
       "\n",
       "                                              Extras  \\\n",
       "0     Alloy wheels,Catalytic Converter,Voice Control   \n",
       "1  Alloy wheels,Sport seats,Sport suspension,Voic...   \n",
       "\n",
       "                                     Safety_Security  age  Previous_Owners  \\\n",
       "0  ABS,Central door lock,Daytime running lights,D...  3.0              2.0   \n",
       "1  ABS,Central door lock,Central door lock with r...  2.0              1.0   \n",
       "\n",
       "   hp_kW  Inspection_new Paint_Type Upholstery_type Gearing_Type  \\\n",
       "0   66.0               1   Metallic           Cloth    Automatic   \n",
       "1  141.0               0   Metallic           Cloth    Automatic   \n",
       "\n",
       "   Displacement_cc  Weight_kg Drive_chain  cons_comb  \n",
       "0           1422.0     1220.0       front        3.8  \n",
       "1           1798.0     1255.0       front        5.6  "
      ]
     },
     "execution_count": 11,
     "metadata": {},
     "output_type": "execute_result"
    }
   ],
   "source": [
    "df.head(2) "
   ]
  },
  {
   "cell_type": "code",
   "execution_count": 12,
   "id": "073f2380",
   "metadata": {},
   "outputs": [
    {
     "data": {
      "text/plain": [
       "0        Air conditioning,Armrest,Automatic climate con...\n",
       "1        Air conditioning,Automatic climate control,Hil...\n",
       "2        Air conditioning,Cruise control,Electrical sid...\n",
       "3        Air suspension,Armrest,Auxiliary heating,Elect...\n",
       "4        Air conditioning,Armrest,Automatic climate con...\n",
       "                               ...                        \n",
       "15907    Air conditioning,Armrest,Automatic climate con...\n",
       "15908    Air conditioning,Automatic climate control,Cru...\n",
       "15909    Air conditioning,Armrest,Automatic climate con...\n",
       "15911    Air conditioning,Automatic climate control,Cru...\n",
       "15912    Air conditioning,Armrest,Automatic climate con...\n",
       "Name: Comfort_Convenience, Length: 14242, dtype: object"
      ]
     },
     "execution_count": 12,
     "metadata": {},
     "output_type": "execute_result"
    }
   ],
   "source": [
    "df[\"Comfort_Convenience\"]"
   ]
  },
  {
   "cell_type": "code",
   "execution_count": 13,
   "id": "852fb6a3",
   "metadata": {},
   "outputs": [
    {
     "data": {
      "text/plain": [
       "0        16\n",
       "1         9\n",
       "2        13\n",
       "3        16\n",
       "4        13\n",
       "         ..\n",
       "15907    27\n",
       "15908    20\n",
       "15909    26\n",
       "15911    23\n",
       "15912    24\n",
       "Name: Comfort_Convenience, Length: 14242, dtype: int64"
      ]
     },
     "execution_count": 13,
     "metadata": {},
     "output_type": "execute_result"
    }
   ],
   "source": [
    "df[\"Comfort_Convenience\"].apply(lambda x : len(x.split(\",\")))"
   ]
  },
  {
   "cell_type": "code",
   "execution_count": 14,
   "id": "7352796b",
   "metadata": {},
   "outputs": [],
   "source": [
    "df[\"Comfort_Convenience\"] = df[\"Comfort_Convenience\"].apply(lambda x : len(x.split(\",\")))"
   ]
  },
  {
   "cell_type": "code",
   "execution_count": 17,
   "id": "a507d4c8",
   "metadata": {},
   "outputs": [],
   "source": [
    "df[\"Entertainment_Media\"] = df[\"Entertainment_Media\"].apply(lambda x : len(x.split(\",\")))"
   ]
  },
  {
   "cell_type": "code",
   "execution_count": 20,
   "id": "993dcd08",
   "metadata": {},
   "outputs": [],
   "source": [
    "df[\"Safety_Security\"] = df[\"Safety_Security\"].apply(lambda x : len(x.split(\",\")))"
   ]
  },
  {
   "cell_type": "code",
   "execution_count": 21,
   "id": "564ff458",
   "metadata": {},
   "outputs": [
    {
     "data": {
      "text/plain": [
       "Comfort_Convenience\n",
       "15    1012\n",
       "17     973\n",
       "14     960\n",
       "16     846\n",
       "13     787\n",
       "4      779\n",
       "11     731\n",
       "6      714\n",
       "12     690\n",
       "10     676\n",
       "7      650\n",
       "5      621\n",
       "18     578\n",
       "8      566\n",
       "3      552\n",
       "9      495\n",
       "19     436\n",
       "21     389\n",
       "20     366\n",
       "23     301\n",
       "22     291\n",
       "2      249\n",
       "1      168\n",
       "24     126\n",
       "25     105\n",
       "26      80\n",
       "27      44\n",
       "28      31\n",
       "29      14\n",
       "31       4\n",
       "30       4\n",
       "32       2\n",
       "33       2\n",
       "Name: count, dtype: int64"
      ]
     },
     "execution_count": 21,
     "metadata": {},
     "output_type": "execute_result"
    }
   ],
   "source": [
    "df[\"Comfort_Convenience\"].value_counts()"
   ]
  },
  {
   "cell_type": "code",
   "execution_count": 22,
   "id": "408ad603",
   "metadata": {},
   "outputs": [
    {
     "data": {
      "text/plain": [
       "Entertainment_Media\n",
       "5     3187\n",
       "6     2806\n",
       "7     1757\n",
       "4     1666\n",
       "3     1411\n",
       "2     1338\n",
       "1     1222\n",
       "8      670\n",
       "9      171\n",
       "10      14\n",
       "Name: count, dtype: int64"
      ]
     },
     "execution_count": 22,
     "metadata": {},
     "output_type": "execute_result"
    }
   ],
   "source": [
    "df[\"Entertainment_Media\"].value_counts()"
   ]
  },
  {
   "cell_type": "code",
   "execution_count": 23,
   "id": "2b3e2f2c",
   "metadata": {},
   "outputs": [
    {
     "data": {
      "text/plain": [
       "Safety_Security\n",
       "13    2201\n",
       "14    1548\n",
       "12    1540\n",
       "11    1301\n",
       "15     951\n",
       "10     929\n",
       "16     806\n",
       "9      744\n",
       "18     601\n",
       "17     553\n",
       "8      516\n",
       "19     476\n",
       "7      426\n",
       "20     372\n",
       "6      298\n",
       "21     237\n",
       "5      193\n",
       "22     115\n",
       "2       95\n",
       "3       78\n",
       "4       76\n",
       "1       53\n",
       "23      45\n",
       "24      38\n",
       "25      16\n",
       "28      14\n",
       "26      10\n",
       "27       9\n",
       "29       1\n",
       "Name: count, dtype: int64"
      ]
     },
     "execution_count": 23,
     "metadata": {},
     "output_type": "execute_result"
    }
   ],
   "source": [
    "df[\"Safety_Security\"].value_counts()"
   ]
  },
  {
   "cell_type": "markdown",
   "id": "46707abd",
   "metadata": {},
   "source": [
    "## Handling Outlier"
   ]
  },
  {
   "cell_type": "code",
   "execution_count": 28,
   "id": "78fc77ea",
   "metadata": {},
   "outputs": [
    {
     "data": {
      "text/plain": [
       "make_model\n",
       "Audi A3           2758\n",
       "Opel Insignia     2417\n",
       "Audi A1           2377\n",
       "Opel Astra        2305\n",
       "Opel Corsa        1994\n",
       "Renault Clio      1486\n",
       "Renault Espace     884\n",
       "Renault Duster      20\n",
       "Audi A2              1\n",
       "Name: count, dtype: int64"
      ]
     },
     "execution_count": 28,
     "metadata": {},
     "output_type": "execute_result"
    }
   ],
   "source": [
    "df[\"make_model\"].value_counts()"
   ]
  },
  {
   "cell_type": "code",
   "execution_count": 29,
   "id": "00f10858",
   "metadata": {},
   "outputs": [
    {
     "data": {
      "text/html": [
       "<div>\n",
       "<style scoped>\n",
       "    .dataframe tbody tr th:only-of-type {\n",
       "        vertical-align: middle;\n",
       "    }\n",
       "\n",
       "    .dataframe tbody tr th {\n",
       "        vertical-align: top;\n",
       "    }\n",
       "\n",
       "    .dataframe thead th {\n",
       "        text-align: right;\n",
       "    }\n",
       "</style>\n",
       "<table border=\"1\" class=\"dataframe\">\n",
       "  <thead>\n",
       "    <tr style=\"text-align: right;\">\n",
       "      <th></th>\n",
       "      <th>make_model</th>\n",
       "      <th>body_type</th>\n",
       "      <th>price</th>\n",
       "      <th>vat</th>\n",
       "      <th>km</th>\n",
       "      <th>Type</th>\n",
       "      <th>Fuel</th>\n",
       "      <th>Gears</th>\n",
       "      <th>Comfort_Convenience</th>\n",
       "      <th>Entertainment_Media</th>\n",
       "      <th>Extras</th>\n",
       "      <th>Safety_Security</th>\n",
       "      <th>age</th>\n",
       "      <th>Previous_Owners</th>\n",
       "      <th>hp_kW</th>\n",
       "      <th>Inspection_new</th>\n",
       "      <th>Paint_Type</th>\n",
       "      <th>Upholstery_type</th>\n",
       "      <th>Gearing_Type</th>\n",
       "      <th>Displacement_cc</th>\n",
       "      <th>Weight_kg</th>\n",
       "      <th>Drive_chain</th>\n",
       "      <th>cons_comb</th>\n",
       "    </tr>\n",
       "  </thead>\n",
       "  <tbody>\n",
       "    <tr>\n",
       "      <th>2614</th>\n",
       "      <td>Audi A2</td>\n",
       "      <td>Off-Road</td>\n",
       "      <td>28200</td>\n",
       "      <td>VAT deductible</td>\n",
       "      <td>26166.0</td>\n",
       "      <td>Employee's car</td>\n",
       "      <td>Diesel</td>\n",
       "      <td>6.0</td>\n",
       "      <td>15</td>\n",
       "      <td>7</td>\n",
       "      <td>Alloy wheels</td>\n",
       "      <td>15</td>\n",
       "      <td>1.0</td>\n",
       "      <td>1.0</td>\n",
       "      <td>85.0</td>\n",
       "      <td>0</td>\n",
       "      <td>Metallic</td>\n",
       "      <td>Cloth</td>\n",
       "      <td>Manual</td>\n",
       "      <td>1598.0</td>\n",
       "      <td>1135.0</td>\n",
       "      <td>front</td>\n",
       "      <td>4.9</td>\n",
       "    </tr>\n",
       "  </tbody>\n",
       "</table>\n",
       "</div>"
      ],
      "text/plain": [
       "     make_model body_type  price             vat       km            Type  \\\n",
       "2614    Audi A2  Off-Road  28200  VAT deductible  26166.0  Employee's car   \n",
       "\n",
       "        Fuel  Gears  Comfort_Convenience  Entertainment_Media        Extras  \\\n",
       "2614  Diesel    6.0                   15                    7  Alloy wheels   \n",
       "\n",
       "      Safety_Security  age  Previous_Owners  hp_kW  Inspection_new Paint_Type  \\\n",
       "2614               15  1.0              1.0   85.0               0   Metallic   \n",
       "\n",
       "     Upholstery_type Gearing_Type  Displacement_cc  Weight_kg Drive_chain  \\\n",
       "2614           Cloth       Manual           1598.0     1135.0       front   \n",
       "\n",
       "      cons_comb  \n",
       "2614        4.9  "
      ]
     },
     "execution_count": 29,
     "metadata": {},
     "output_type": "execute_result"
    }
   ],
   "source": [
    "df[df.make_model == \"Audi A2\"]"
   ]
  },
  {
   "cell_type": "code",
   "execution_count": 30,
   "id": "85532d01",
   "metadata": {},
   "outputs": [],
   "source": [
    "df.drop(index = [2614], inplace = True)"
   ]
  },
  {
   "cell_type": "code",
   "execution_count": 31,
   "id": "647b84ad",
   "metadata": {},
   "outputs": [
    {
     "data": {
      "text/plain": [
       "make_model\n",
       "Audi A3           2758\n",
       "Opel Insignia     2417\n",
       "Audi A1           2377\n",
       "Opel Astra        2305\n",
       "Opel Corsa        1994\n",
       "Renault Clio      1486\n",
       "Renault Espace     884\n",
       "Renault Duster      20\n",
       "Name: count, dtype: int64"
      ]
     },
     "execution_count": 31,
     "metadata": {},
     "output_type": "execute_result"
    }
   ],
   "source": [
    "df[\"make_model\"].value_counts()"
   ]
  },
  {
   "cell_type": "code",
   "execution_count": 32,
   "id": "f6a5a152",
   "metadata": {},
   "outputs": [
    {
     "data": {
      "image/png": "[encoded data removed]",
      "text/plain": [
       "<Figure size 1000x600 with 2 Axes>"
      ]
     },
     "metadata": {},
     "output_type": "display_data"
    }
   ],
   "source": [
    "# for see the correlations\n",
    "\n",
    "plt.figure(figsize=(10, 6))\n",
    "sns.heatmap(df.corr(numeric_only=True), vmin=-1, vmax=1, annot=True, cmap=\"coolwarm\");"
   ]
  },
  {
   "cell_type": "markdown",
   "id": "5fe599f6",
   "metadata": {},
   "source": [
    "# 3. Train | Test Split"
   ]
  },
  {
   "cell_type": "code",
   "execution_count": 38,
   "id": "bf3038a4",
   "metadata": {},
   "outputs": [],
   "source": [
    "columns = [\"make_model\", \"Gears\",\"Gearing_Type\",\"age\",\"km\",\"hp_kW\",\"Comfort_Convenience\"]"
   ]
  },
  {
   "cell_type": "code",
   "execution_count": 39,
   "id": "95d76cf4",
   "metadata": {},
   "outputs": [],
   "source": [
    "X = df[columns]\n",
    "y = df.price"
   ]
  },
  {
   "cell_type": "code",
   "execution_count": 72,
   "id": "f5e815ba",
   "metadata": {},
   "outputs": [
    {
     "data": {
      "text/html": [
       "<div>\n",
       "<style scoped>\n",
       "    .dataframe tbody tr th:only-of-type {\n",
       "        vertical-align: middle;\n",
       "    }\n",
       "\n",
       "    .dataframe tbody tr th {\n",
       "        vertical-align: top;\n",
       "    }\n",
       "\n",
       "    .dataframe thead th {\n",
       "        text-align: right;\n",
       "    }\n",
       "</style>\n",
       "<table border=\"1\" class=\"dataframe\">\n",
       "  <thead>\n",
       "    <tr style=\"text-align: right;\">\n",
       "      <th></th>\n",
       "      <th>make_model</th>\n",
       "      <th>Gears</th>\n",
       "      <th>Gearing_Type</th>\n",
       "      <th>age</th>\n",
       "      <th>km</th>\n",
       "      <th>hp_kW</th>\n",
       "      <th>Comfort_Convenience</th>\n",
       "    </tr>\n",
       "  </thead>\n",
       "  <tbody>\n",
       "    <tr>\n",
       "      <th>0</th>\n",
       "      <td>Audi A1</td>\n",
       "      <td>7.0</td>\n",
       "      <td>Automatic</td>\n",
       "      <td>3.0</td>\n",
       "      <td>56013.000000</td>\n",
       "      <td>66.0</td>\n",
       "      <td>16</td>\n",
       "    </tr>\n",
       "    <tr>\n",
       "      <th>1</th>\n",
       "      <td>Audi A1</td>\n",
       "      <td>7.0</td>\n",
       "      <td>Automatic</td>\n",
       "      <td>2.0</td>\n",
       "      <td>80000.000000</td>\n",
       "      <td>141.0</td>\n",
       "      <td>9</td>\n",
       "    </tr>\n",
       "    <tr>\n",
       "      <th>2</th>\n",
       "      <td>Audi A1</td>\n",
       "      <td>7.0</td>\n",
       "      <td>Automatic</td>\n",
       "      <td>3.0</td>\n",
       "      <td>83450.000000</td>\n",
       "      <td>85.0</td>\n",
       "      <td>13</td>\n",
       "    </tr>\n",
       "    <tr>\n",
       "      <th>3</th>\n",
       "      <td>Audi A1</td>\n",
       "      <td>6.0</td>\n",
       "      <td>Automatic</td>\n",
       "      <td>3.0</td>\n",
       "      <td>73000.000000</td>\n",
       "      <td>66.0</td>\n",
       "      <td>16</td>\n",
       "    </tr>\n",
       "    <tr>\n",
       "      <th>4</th>\n",
       "      <td>Audi A1</td>\n",
       "      <td>7.0</td>\n",
       "      <td>Automatic</td>\n",
       "      <td>3.0</td>\n",
       "      <td>16200.000000</td>\n",
       "      <td>66.0</td>\n",
       "      <td>13</td>\n",
       "    </tr>\n",
       "    <tr>\n",
       "      <th>...</th>\n",
       "      <td>...</td>\n",
       "      <td>...</td>\n",
       "      <td>...</td>\n",
       "      <td>...</td>\n",
       "      <td>...</td>\n",
       "      <td>...</td>\n",
       "      <td>...</td>\n",
       "    </tr>\n",
       "    <tr>\n",
       "      <th>15907</th>\n",
       "      <td>Renault Espace</td>\n",
       "      <td>6.0</td>\n",
       "      <td>Automatic</td>\n",
       "      <td>0.0</td>\n",
       "      <td>100.000000</td>\n",
       "      <td>118.0</td>\n",
       "      <td>27</td>\n",
       "    </tr>\n",
       "    <tr>\n",
       "      <th>15908</th>\n",
       "      <td>Renault Espace</td>\n",
       "      <td>6.0</td>\n",
       "      <td>Automatic</td>\n",
       "      <td>0.0</td>\n",
       "      <td>1647.362609</td>\n",
       "      <td>147.0</td>\n",
       "      <td>20</td>\n",
       "    </tr>\n",
       "    <tr>\n",
       "      <th>15909</th>\n",
       "      <td>Renault Espace</td>\n",
       "      <td>6.0</td>\n",
       "      <td>Automatic</td>\n",
       "      <td>0.0</td>\n",
       "      <td>1000.000000</td>\n",
       "      <td>165.0</td>\n",
       "      <td>26</td>\n",
       "    </tr>\n",
       "    <tr>\n",
       "      <th>15911</th>\n",
       "      <td>Renault Espace</td>\n",
       "      <td>7.0</td>\n",
       "      <td>Automatic</td>\n",
       "      <td>0.0</td>\n",
       "      <td>9900.000000</td>\n",
       "      <td>165.0</td>\n",
       "      <td>23</td>\n",
       "    </tr>\n",
       "    <tr>\n",
       "      <th>15912</th>\n",
       "      <td>Renault Espace</td>\n",
       "      <td>6.0</td>\n",
       "      <td>Automatic</td>\n",
       "      <td>0.0</td>\n",
       "      <td>15.000000</td>\n",
       "      <td>146.0</td>\n",
       "      <td>24</td>\n",
       "    </tr>\n",
       "  </tbody>\n",
       "</table>\n",
       "<p>14241 rows × 7 columns</p>\n",
       "</div>"
      ],
      "text/plain": [
       "           make_model  Gears Gearing_Type  age            km  hp_kW  \\\n",
       "0             Audi A1    7.0    Automatic  3.0  56013.000000   66.0   \n",
       "1             Audi A1    7.0    Automatic  2.0  80000.000000  141.0   \n",
       "2             Audi A1    7.0    Automatic  3.0  83450.000000   85.0   \n",
       "3             Audi A1    6.0    Automatic  3.0  73000.000000   66.0   \n",
       "4             Audi A1    7.0    Automatic  3.0  16200.000000   66.0   \n",
       "...               ...    ...          ...  ...           ...    ...   \n",
       "15907  Renault Espace    6.0    Automatic  0.0    100.000000  118.0   \n",
       "15908  Renault Espace    6.0    Automatic  0.0   1647.362609  147.0   \n",
       "15909  Renault Espace    6.0    Automatic  0.0   1000.000000  165.0   \n",
       "15911  Renault Espace    7.0    Automatic  0.0   9900.000000  165.0   \n",
       "15912  Renault Espace    6.0    Automatic  0.0     15.000000  146.0   \n",
       "\n",
       "       Comfort_Convenience  \n",
       "0                       16  \n",
       "1                        9  \n",
       "2                       13  \n",
       "3                       16  \n",
       "4                       13  \n",
       "...                    ...  \n",
       "15907                   27  \n",
       "15908                   20  \n",
       "15909                   26  \n",
       "15911                   23  \n",
       "15912                   24  \n",
       "\n",
       "[14241 rows x 7 columns]"
      ]
     },
     "execution_count": 72,
     "metadata": {},
     "output_type": "execute_result"
    }
   ],
   "source": [
    "X"
   ]
  },
  {
   "cell_type": "code",
   "execution_count": 73,
   "id": "ed392582",
   "metadata": {},
   "outputs": [],
   "source": [
    "X_train, X_test, y_train, y_test = train_test_split(\n",
    "    X, y, test_size = 0.2, random_state = 0)"
   ]
  },
  {
   "cell_type": "code",
   "execution_count": 82,
   "id": "3b8194e0",
   "metadata": {},
   "outputs": [],
   "source": [
    "X_train, X_val, y_train, y_val = train_test_split(X, y, test_size=0.25, random_state=1)"
   ]
  },
  {
   "cell_type": "code",
   "execution_count": 83,
   "id": "512f0e49",
   "metadata": {},
   "outputs": [],
   "source": [
    "from sklearn.compose import make_column_transformer\n",
    "from sklearn.preprocessing import OrdinalEncoder"
   ]
  },
  {
   "cell_type": "markdown",
   "id": "01131a64",
   "metadata": {},
   "source": [
    "## Converting Object Features into Numerical Features with Using Make Column Transformer"
   ]
  },
  {
   "cell_type": "code",
   "execution_count": 84,
   "id": "ee2b2a88",
   "metadata": {},
   "outputs": [
    {
     "data": {
      "text/plain": [
       "Index(['make_model', 'Gearing_Type'], dtype='object')"
      ]
     },
     "execution_count": 84,
     "metadata": {},
     "output_type": "execute_result"
    }
   ],
   "source": [
    "# converting object features into Numerical features. with \n",
    "\n",
    "cat_ordinal = X_train.select_dtypes(\"object\").columns\n",
    "cat_ordinal"
   ]
  },
  {
   "cell_type": "code",
   "execution_count": 85,
   "id": "14d7e4e9",
   "metadata": {},
   "outputs": [],
   "source": [
    "ord_enc = OrdinalEncoder()\n",
    "column_trans = make_column_transformer(\n",
    "    (ord_enc, cat_ordinal),\n",
    "    remainder='passthrough',\n",
    "    verbose_feature_names_out=False).set_output(transform=\"pandas\")\n",
    "\n",
    "# remainder: \n",
    "# Keep other columns rather than cat in original form.\n",
    "# remainder: \n",
    "# if you want to scale rest of cat columns use \"minmax\" istead passthroug\n",
    "  \n",
    "    # Apply ord_enc to categoric variables and remain in original form rest of them.\n",
    "    # ord_enc for DT based algorithms\n",
    "    # For Linear reg, log reg vs. use one hot encoder    "
   ]
  },
  {
   "cell_type": "code",
   "execution_count": 86,
   "id": "9a7b4e51",
   "metadata": {},
   "outputs": [],
   "source": [
    "train = column_trans.fit_transform(X_train)\n",
    "validation = column_trans.transform(X_val)"
   ]
  },
  {
   "cell_type": "code",
   "execution_count": 88,
   "id": "cc622e5d",
   "metadata": {},
   "outputs": [
    {
     "data": {
      "text/html": [
       "<div>\n",
       "<style scoped>\n",
       "    .dataframe tbody tr th:only-of-type {\n",
       "        vertical-align: middle;\n",
       "    }\n",
       "\n",
       "    .dataframe tbody tr th {\n",
       "        vertical-align: top;\n",
       "    }\n",
       "\n",
       "    .dataframe thead th {\n",
       "        text-align: right;\n",
       "    }\n",
       "</style>\n",
       "<table border=\"1\" class=\"dataframe\">\n",
       "  <thead>\n",
       "    <tr style=\"text-align: right;\">\n",
       "      <th></th>\n",
       "      <th>make_model</th>\n",
       "      <th>Gearing_Type</th>\n",
       "      <th>Gears</th>\n",
       "      <th>age</th>\n",
       "      <th>km</th>\n",
       "      <th>hp_kW</th>\n",
       "      <th>Comfort_Convenience</th>\n",
       "    </tr>\n",
       "  </thead>\n",
       "  <tbody>\n",
       "    <tr>\n",
       "      <th>1523</th>\n",
       "      <td>0.0</td>\n",
       "      <td>1.0</td>\n",
       "      <td>5.0</td>\n",
       "      <td>1.0</td>\n",
       "      <td>9999.0</td>\n",
       "      <td>70.0</td>\n",
       "      <td>11</td>\n",
       "    </tr>\n",
       "    <tr>\n",
       "      <th>9104</th>\n",
       "      <td>3.0</td>\n",
       "      <td>1.0</td>\n",
       "      <td>5.0</td>\n",
       "      <td>1.0</td>\n",
       "      <td>70000.0</td>\n",
       "      <td>66.0</td>\n",
       "      <td>11</td>\n",
       "    </tr>\n",
       "    <tr>\n",
       "      <th>3785</th>\n",
       "      <td>1.0</td>\n",
       "      <td>0.0</td>\n",
       "      <td>7.0</td>\n",
       "      <td>1.0</td>\n",
       "      <td>24215.0</td>\n",
       "      <td>85.0</td>\n",
       "      <td>1</td>\n",
       "    </tr>\n",
       "    <tr>\n",
       "      <th>14645</th>\n",
       "      <td>5.0</td>\n",
       "      <td>1.0</td>\n",
       "      <td>5.0</td>\n",
       "      <td>0.0</td>\n",
       "      <td>1.0</td>\n",
       "      <td>56.0</td>\n",
       "      <td>3</td>\n",
       "    </tr>\n",
       "    <tr>\n",
       "      <th>1701</th>\n",
       "      <td>0.0</td>\n",
       "      <td>0.0</td>\n",
       "      <td>7.0</td>\n",
       "      <td>1.0</td>\n",
       "      <td>9530.0</td>\n",
       "      <td>85.0</td>\n",
       "      <td>17</td>\n",
       "    </tr>\n",
       "  </tbody>\n",
       "</table>\n",
       "</div>"
      ],
      "text/plain": [
       "       make_model  Gearing_Type  Gears  age       km  hp_kW  \\\n",
       "1523          0.0           1.0    5.0  1.0   9999.0   70.0   \n",
       "9104          3.0           1.0    5.0  1.0  70000.0   66.0   \n",
       "3785          1.0           0.0    7.0  1.0  24215.0   85.0   \n",
       "14645         5.0           1.0    5.0  0.0      1.0   56.0   \n",
       "1701          0.0           0.0    7.0  1.0   9530.0   85.0   \n",
       "\n",
       "       Comfort_Convenience  \n",
       "1523                    11  \n",
       "9104                    11  \n",
       "3785                     1  \n",
       "14645                    3  \n",
       "1701                    17  "
      ]
     },
     "execution_count": 88,
     "metadata": {},
     "output_type": "execute_result"
    }
   ],
   "source": [
    "train.head()"
   ]
  },
  {
   "cell_type": "code",
   "execution_count": 89,
   "id": "9421a960",
   "metadata": {},
   "outputs": [],
   "source": [
    "train = pd.concat([pd.Series(y_train, index = X_train.index, name=\"price\", dtype=int), train], axis=1)\n",
    "validation = pd.concat([pd.Series(y_val, index = X_val.index, name=\"price\", dtype=int), validation], axis=1)"
   ]
  },
  {
   "cell_type": "code",
   "execution_count": 90,
   "id": "dcde08ac",
   "metadata": {},
   "outputs": [
    {
     "data": {
      "text/html": [
       "<div>\n",
       "<style scoped>\n",
       "    .dataframe tbody tr th:only-of-type {\n",
       "        vertical-align: middle;\n",
       "    }\n",
       "\n",
       "    .dataframe tbody tr th {\n",
       "        vertical-align: top;\n",
       "    }\n",
       "\n",
       "    .dataframe thead th {\n",
       "        text-align: right;\n",
       "    }\n",
       "</style>\n",
       "<table border=\"1\" class=\"dataframe\">\n",
       "  <thead>\n",
       "    <tr style=\"text-align: right;\">\n",
       "      <th></th>\n",
       "      <th>price</th>\n",
       "      <th>make_model</th>\n",
       "      <th>Gearing_Type</th>\n",
       "      <th>Gears</th>\n",
       "      <th>age</th>\n",
       "      <th>km</th>\n",
       "      <th>hp_kW</th>\n",
       "      <th>Comfort_Convenience</th>\n",
       "    </tr>\n",
       "  </thead>\n",
       "  <tbody>\n",
       "    <tr>\n",
       "      <th>1523</th>\n",
       "      <td>16360</td>\n",
       "      <td>0.0</td>\n",
       "      <td>1.0</td>\n",
       "      <td>5.0</td>\n",
       "      <td>1.0</td>\n",
       "      <td>9999.0</td>\n",
       "      <td>70.0</td>\n",
       "      <td>11</td>\n",
       "    </tr>\n",
       "    <tr>\n",
       "      <th>9104</th>\n",
       "      <td>8880</td>\n",
       "      <td>3.0</td>\n",
       "      <td>1.0</td>\n",
       "      <td>5.0</td>\n",
       "      <td>1.0</td>\n",
       "      <td>70000.0</td>\n",
       "      <td>66.0</td>\n",
       "      <td>11</td>\n",
       "    </tr>\n",
       "    <tr>\n",
       "      <th>3785</th>\n",
       "      <td>21500</td>\n",
       "      <td>1.0</td>\n",
       "      <td>0.0</td>\n",
       "      <td>7.0</td>\n",
       "      <td>1.0</td>\n",
       "      <td>24215.0</td>\n",
       "      <td>85.0</td>\n",
       "      <td>1</td>\n",
       "    </tr>\n",
       "    <tr>\n",
       "      <th>14645</th>\n",
       "      <td>10390</td>\n",
       "      <td>5.0</td>\n",
       "      <td>1.0</td>\n",
       "      <td>5.0</td>\n",
       "      <td>0.0</td>\n",
       "      <td>1.0</td>\n",
       "      <td>56.0</td>\n",
       "      <td>3</td>\n",
       "    </tr>\n",
       "    <tr>\n",
       "      <th>1701</th>\n",
       "      <td>22480</td>\n",
       "      <td>0.0</td>\n",
       "      <td>0.0</td>\n",
       "      <td>7.0</td>\n",
       "      <td>1.0</td>\n",
       "      <td>9530.0</td>\n",
       "      <td>85.0</td>\n",
       "      <td>17</td>\n",
       "    </tr>\n",
       "  </tbody>\n",
       "</table>\n",
       "</div>"
      ],
      "text/plain": [
       "       price  make_model  Gearing_Type  Gears  age       km  hp_kW  \\\n",
       "1523   16360         0.0           1.0    5.0  1.0   9999.0   70.0   \n",
       "9104    8880         3.0           1.0    5.0  1.0  70000.0   66.0   \n",
       "3785   21500         1.0           0.0    7.0  1.0  24215.0   85.0   \n",
       "14645  10390         5.0           1.0    5.0  0.0      1.0   56.0   \n",
       "1701   22480         0.0           0.0    7.0  1.0   9530.0   85.0   \n",
       "\n",
       "       Comfort_Convenience  \n",
       "1523                    11  \n",
       "9104                    11  \n",
       "3785                     1  \n",
       "14645                    3  \n",
       "1701                    17  "
      ]
     },
     "execution_count": 90,
     "metadata": {},
     "output_type": "execute_result"
    }
   ],
   "source": [
    "train.head()"
   ]
  },
  {
   "cell_type": "code",
   "execution_count": 91,
   "id": "f50e11bb",
   "metadata": {},
   "outputs": [
    {
     "data": {
      "text/html": [
       "<div>\n",
       "<style scoped>\n",
       "    .dataframe tbody tr th:only-of-type {\n",
       "        vertical-align: middle;\n",
       "    }\n",
       "\n",
       "    .dataframe tbody tr th {\n",
       "        vertical-align: top;\n",
       "    }\n",
       "\n",
       "    .dataframe thead th {\n",
       "        text-align: right;\n",
       "    }\n",
       "</style>\n",
       "<table border=\"1\" class=\"dataframe\">\n",
       "  <thead>\n",
       "    <tr style=\"text-align: right;\">\n",
       "      <th></th>\n",
       "      <th>price</th>\n",
       "      <th>make_model</th>\n",
       "      <th>Gearing_Type</th>\n",
       "      <th>Gears</th>\n",
       "      <th>age</th>\n",
       "      <th>km</th>\n",
       "      <th>hp_kW</th>\n",
       "      <th>Comfort_Convenience</th>\n",
       "    </tr>\n",
       "  </thead>\n",
       "  <tbody>\n",
       "    <tr>\n",
       "      <th>5112</th>\n",
       "      <td>26500</td>\n",
       "      <td>1.0</td>\n",
       "      <td>0.0</td>\n",
       "      <td>7.0</td>\n",
       "      <td>0.0</td>\n",
       "      <td>1.000000</td>\n",
       "      <td>85.0</td>\n",
       "      <td>14</td>\n",
       "    </tr>\n",
       "    <tr>\n",
       "      <th>12814</th>\n",
       "      <td>28899</td>\n",
       "      <td>4.0</td>\n",
       "      <td>1.0</td>\n",
       "      <td>6.0</td>\n",
       "      <td>0.0</td>\n",
       "      <td>10499.000000</td>\n",
       "      <td>125.0</td>\n",
       "      <td>28</td>\n",
       "    </tr>\n",
       "    <tr>\n",
       "      <th>5459</th>\n",
       "      <td>24288</td>\n",
       "      <td>1.0</td>\n",
       "      <td>1.0</td>\n",
       "      <td>6.0</td>\n",
       "      <td>0.0</td>\n",
       "      <td>10.000000</td>\n",
       "      <td>110.0</td>\n",
       "      <td>14</td>\n",
       "    </tr>\n",
       "    <tr>\n",
       "      <th>8859</th>\n",
       "      <td>7950</td>\n",
       "      <td>3.0</td>\n",
       "      <td>1.0</td>\n",
       "      <td>5.0</td>\n",
       "      <td>3.0</td>\n",
       "      <td>39990.000000</td>\n",
       "      <td>51.0</td>\n",
       "      <td>4</td>\n",
       "    </tr>\n",
       "    <tr>\n",
       "      <th>12552</th>\n",
       "      <td>33573</td>\n",
       "      <td>4.0</td>\n",
       "      <td>0.0</td>\n",
       "      <td>8.0</td>\n",
       "      <td>0.0</td>\n",
       "      <td>1647.362609</td>\n",
       "      <td>125.0</td>\n",
       "      <td>23</td>\n",
       "    </tr>\n",
       "  </tbody>\n",
       "</table>\n",
       "</div>"
      ],
      "text/plain": [
       "       price  make_model  Gearing_Type  Gears  age            km  hp_kW  \\\n",
       "5112   26500         1.0           0.0    7.0  0.0      1.000000   85.0   \n",
       "12814  28899         4.0           1.0    6.0  0.0  10499.000000  125.0   \n",
       "5459   24288         1.0           1.0    6.0  0.0     10.000000  110.0   \n",
       "8859    7950         3.0           1.0    5.0  3.0  39990.000000   51.0   \n",
       "12552  33573         4.0           0.0    8.0  0.0   1647.362609  125.0   \n",
       "\n",
       "       Comfort_Convenience  \n",
       "5112                    14  \n",
       "12814                   28  \n",
       "5459                    14  \n",
       "8859                     4  \n",
       "12552                   23  "
      ]
     },
     "execution_count": 91,
     "metadata": {},
     "output_type": "execute_result"
    }
   ],
   "source": [
    "validation.head()"
   ]
  },
  {
   "cell_type": "code",
   "execution_count": 92,
   "id": "5e41c8d0",
   "metadata": {},
   "outputs": [],
   "source": [
    "# Save train, validation data.\n",
    "\n",
    "train.to_csv('train.csv', index=False, header=False)\n",
    "validation.to_csv('validation.csv', index=False, header=False)"
   ]
  },
  {
   "cell_type": "code",
   "execution_count": 53,
   "id": "f1f86647",
   "metadata": {},
   "outputs": [
    {
     "data": {
      "text/html": [
       "<style>#sk-container-id-1 {color: black;}#sk-container-id-1 pre{padding: 0;}#sk-container-id-1 div.sk-toggleable {background-color: white;}#sk-container-id-1 label.sk-toggleable__label {cursor: pointer;display: block;width: 100%;margin-bottom: 0;padding: 0.3em;box-sizing: border-box;text-align: center;}#sk-container-id-1 label.sk-toggleable__label-arrow:before {content: \"▸\";float: left;margin-right: 0.25em;color: #696969;}#sk-container-id-1 label.sk-toggleable__label-arrow:hover:before {color: black;}#sk-container-id-1 div.sk-estimator:hover label.sk-toggleable__label-arrow:before {color: black;}#sk-container-id-1 div.sk-toggleable__content {max-height: 0;max-width: 0;overflow: hidden;text-align: left;background-color: #f0f8ff;}#sk-container-id-1 div.sk-toggleable__content pre {margin: 0.2em;color: black;border-radius: 0.25em;background-color: #f0f8ff;}#sk-container-id-1 input.sk-toggleable__control:checked~div.sk-toggleable__content {max-height: 200px;max-width: 100%;overflow: auto;}#sk-container-id-1 input.sk-toggleable__control:checked~label.sk-toggleable__label-arrow:before {content: \"▾\";}#sk-container-id-1 div.sk-estimator input.sk-toggleable__control:checked~label.sk-toggleable__label {background-color: #d4ebff;}#sk-container-id-1 div.sk-label input.sk-toggleable__control:checked~label.sk-toggleable__label {background-color: #d4ebff;}#sk-container-id-1 input.sk-hidden--visually {border: 0;clip: rect(1px 1px 1px 1px);clip: rect(1px, 1px, 1px, 1px);height: 1px;margin: -1px;overflow: hidden;padding: 0;position: absolute;width: 1px;}#sk-container-id-1 div.sk-estimator {font-family: monospace;background-color: #f0f8ff;border: 1px dotted black;border-radius: 0.25em;box-sizing: border-box;margin-bottom: 0.5em;}#sk-container-id-1 div.sk-estimator:hover {background-color: #d4ebff;}#sk-container-id-1 div.sk-parallel-item::after {content: \"\";width: 100%;border-bottom: 1px solid gray;flex-grow: 1;}#sk-container-id-1 div.sk-label:hover label.sk-toggleable__label {background-color: #d4ebff;}#sk-container-id-1 div.sk-serial::before {content: \"\";position: absolute;border-left: 1px solid gray;box-sizing: border-box;top: 0;bottom: 0;left: 50%;z-index: 0;}#sk-container-id-1 div.sk-serial {display: flex;flex-direction: column;align-items: center;background-color: white;padding-right: 0.2em;padding-left: 0.2em;position: relative;}#sk-container-id-1 div.sk-item {position: relative;z-index: 1;}#sk-container-id-1 div.sk-parallel {display: flex;align-items: stretch;justify-content: center;background-color: white;position: relative;}#sk-container-id-1 div.sk-item::before, #sk-container-id-1 div.sk-parallel-item::before {content: \"\";position: absolute;border-left: 1px solid gray;box-sizing: border-box;top: 0;bottom: 0;left: 50%;z-index: -1;}#sk-container-id-1 div.sk-parallel-item {display: flex;flex-direction: column;z-index: 1;position: relative;background-color: white;}#sk-container-id-1 div.sk-parallel-item:first-child::after {align-self: flex-end;width: 50%;}#sk-container-id-1 div.sk-parallel-item:last-child::after {align-self: flex-start;width: 50%;}#sk-container-id-1 div.sk-parallel-item:only-child::after {width: 0;}#sk-container-id-1 div.sk-dashed-wrapped {border: 1px dashed gray;margin: 0 0.4em 0.5em 0.4em;box-sizing: border-box;padding-bottom: 0.4em;background-color: white;}#sk-container-id-1 div.sk-label label {font-family: monospace;font-weight: bold;display: inline-block;line-height: 1.2em;}#sk-container-id-1 div.sk-label-container {text-align: center;}#sk-container-id-1 div.sk-container {/* jupyter's `normalize.less` sets `[hidden] { display: none; }` but bootstrap.min.css set `[hidden] { display: none !important; }` so we also need the `!important` here to be able to override the default hidden behavior on the sphinx rendered scikit-learn.org. See: https://github.com/scikit-learn/scikit-learn/issues/21755 */display: inline-block !important;position: relative;}#sk-container-id-1 div.sk-text-repr-fallback {display: none;}</style><div id=\"sk-container-id-1\" class=\"sk-top-container\"><div class=\"sk-text-repr-fallback\"><pre>RandomForestRegressor()</pre><b>In a Jupyter environment, please rerun this cell to show the HTML representation or trust the notebook. <br />On GitHub, the HTML representation is unable to render, please try loading this page with nbviewer.org.</b></div><div class=\"sk-container\" hidden><div class=\"sk-item\"><div class=\"sk-estimator sk-toggleable\"><input class=\"sk-toggleable__control sk-hidden--visually\" id=\"sk-estimator-id-1\" type=\"checkbox\" checked><label for=\"sk-estimator-id-1\" class=\"sk-toggleable__label sk-toggleable__label-arrow\">RandomForestRegressor</label><div class=\"sk-toggleable__content\"><pre>RandomForestRegressor()</pre></div></div></div></div></div>"
      ],
      "text/plain": [
       "RandomForestRegressor()"
      ]
     },
     "execution_count": 53,
     "metadata": {},
     "output_type": "execute_result"
    }
   ],
   "source": [
    "from sklearn.ensemble import RandomForestRegressor\n",
    "rf_model=RandomForestRegressor()\n",
    "rf_model.fit(X_train, y_train)"
   ]
  },
  {
   "cell_type": "code",
   "execution_count": 54,
   "id": "b6a8b4f3",
   "metadata": {},
   "outputs": [],
   "source": [
    "y_pred = rf_model.predict(X_test)"
   ]
  },
  {
   "cell_type": "code",
   "execution_count": 55,
   "id": "a5bc0deb",
   "metadata": {},
   "outputs": [],
   "source": [
    "def eval_metrics(actual, pred):\n",
    "    rmse = np.sqrt(mean_squared_error(actual, pred))\n",
    "    mae = mean_absolute_error(actual, pred)\n",
    "    mse = mean_squared_error(actual, pred)\n",
    "    score = r2_score(actual, pred)\n",
    "    return print(\" r2_score:\", score, \"\\n\",\"mae:\", mae, \"\\n\",\"mse:\",mse, \"\\n\",\"rmse:\",rmse)"
   ]
  },
  {
   "cell_type": "code",
   "execution_count": 56,
   "id": "ffad62b1",
   "metadata": {},
   "outputs": [
    {
     "name": "stdout",
     "output_type": "stream",
     "text": [
      " r2_score: 0.9400229467193387 \n",
      " mae: 1097.276432669356 \n",
      " mse: 3003355.08169461 \n",
      " rmse: 1733.019065588896\n"
     ]
    }
   ],
   "source": [
    "eval_metrics(y_test,y_pred)"
   ]
  },
  {
   "cell_type": "code",
   "execution_count": 57,
   "id": "29790349",
   "metadata": {},
   "outputs": [],
   "source": [
    "import pickle\n",
    "pickle.dump(rf_model, open('model', 'wb'))"
   ]
  },
  {
   "cell_type": "code",
   "execution_count": 58,
   "id": "75e2edf6",
   "metadata": {},
   "outputs": [],
   "source": [
    "pickle.dump(column_trans, open('transformer', 'wb'))"
   ]
  },
  {
   "cell_type": "markdown",
   "id": "c3042f64",
   "metadata": {},
   "source": [
    "# 4. Deployment"
   ]
  },
  {
   "cell_type": "code",
   "execution_count": 59,
   "id": "a01cae12",
   "metadata": {},
   "outputs": [],
   "source": [
    "my_model = pickle.load(open('model', 'rb'))"
   ]
  },
  {
   "cell_type": "code",
   "execution_count": 60,
   "id": "5bdde4ac",
   "metadata": {},
   "outputs": [],
   "source": [
    "my_transformer = pickle.load(open('transformer', 'rb'))"
   ]
  },
  {
   "cell_type": "code",
   "execution_count": 61,
   "id": "8f3b2967",
   "metadata": {},
   "outputs": [
    {
     "data": {
      "text/plain": [
       "['make_model',\n",
       " 'Gears',\n",
       " 'Gearing_Type',\n",
       " 'age',\n",
       " 'km',\n",
       " 'hp_kW',\n",
       " 'Comfort_Convenience']"
      ]
     },
     "execution_count": 61,
     "metadata": {},
     "output_type": "execute_result"
    }
   ],
   "source": [
    "columns=list(X.columns)\n",
    "columns"
   ]
  },
  {
   "cell_type": "code",
   "execution_count": 62,
   "id": "3d63491a",
   "metadata": {},
   "outputs": [],
   "source": [
    "my_dict = {\n",
    "    'make_model': 'Audi A3',\n",
    "    'Gears': 4,\n",
    "    'Gearing_Type': 'Automatic',\n",
    "    'age': 2,\n",
    "    'km': 100000,\n",
    "    'hp_kW': 100,\n",
    "    'Comfort_Convenience': 8\n",
    "}"
   ]
  },
  {
   "cell_type": "code",
   "execution_count": 63,
   "id": "9e431f24",
   "metadata": {},
   "outputs": [],
   "source": [
    "df = pd.DataFrame.from_dict([my_dict])"
   ]
  },
  {
   "cell_type": "code",
   "execution_count": 65,
   "id": "de85f2da",
   "metadata": {},
   "outputs": [
    {
     "data": {
      "text/html": [
       "<div>\n",
       "<style scoped>\n",
       "    .dataframe tbody tr th:only-of-type {\n",
       "        vertical-align: middle;\n",
       "    }\n",
       "\n",
       "    .dataframe tbody tr th {\n",
       "        vertical-align: top;\n",
       "    }\n",
       "\n",
       "    .dataframe thead th {\n",
       "        text-align: right;\n",
       "    }\n",
       "</style>\n",
       "<table border=\"1\" class=\"dataframe\">\n",
       "  <thead>\n",
       "    <tr style=\"text-align: right;\">\n",
       "      <th></th>\n",
       "      <th>make_model</th>\n",
       "      <th>Gears</th>\n",
       "      <th>Gearing_Type</th>\n",
       "      <th>age</th>\n",
       "      <th>km</th>\n",
       "      <th>hp_kW</th>\n",
       "      <th>Comfort_Convenience</th>\n",
       "    </tr>\n",
       "  </thead>\n",
       "  <tbody>\n",
       "    <tr>\n",
       "      <th>0</th>\n",
       "      <td>Audi A3</td>\n",
       "      <td>4</td>\n",
       "      <td>Automatic</td>\n",
       "      <td>2</td>\n",
       "      <td>100000</td>\n",
       "      <td>100</td>\n",
       "      <td>8</td>\n",
       "    </tr>\n",
       "  </tbody>\n",
       "</table>\n",
       "</div>"
      ],
      "text/plain": [
       "  make_model  Gears Gearing_Type  age      km  hp_kW  Comfort_Convenience\n",
       "0    Audi A3      4    Automatic    2  100000    100                    8"
      ]
     },
     "execution_count": 65,
     "metadata": {},
     "output_type": "execute_result"
    }
   ],
   "source": [
    "df.head()"
   ]
  },
  {
   "cell_type": "code",
   "execution_count": 67,
   "id": "bac655c1",
   "metadata": {},
   "outputs": [],
   "source": [
    "df2 = my_transformer.transform(df)"
   ]
  },
  {
   "cell_type": "code",
   "execution_count": 68,
   "id": "937320ba",
   "metadata": {},
   "outputs": [
    {
     "data": {
      "text/html": [
       "<div>\n",
       "<style scoped>\n",
       "    .dataframe tbody tr th:only-of-type {\n",
       "        vertical-align: middle;\n",
       "    }\n",
       "\n",
       "    .dataframe tbody tr th {\n",
       "        vertical-align: top;\n",
       "    }\n",
       "\n",
       "    .dataframe thead th {\n",
       "        text-align: right;\n",
       "    }\n",
       "</style>\n",
       "<table border=\"1\" class=\"dataframe\">\n",
       "  <thead>\n",
       "    <tr style=\"text-align: right;\">\n",
       "      <th></th>\n",
       "      <th>make_model</th>\n",
       "      <th>Gearing_Type</th>\n",
       "      <th>Gears</th>\n",
       "      <th>age</th>\n",
       "      <th>km</th>\n",
       "      <th>hp_kW</th>\n",
       "      <th>Comfort_Convenience</th>\n",
       "    </tr>\n",
       "  </thead>\n",
       "  <tbody>\n",
       "    <tr>\n",
       "      <th>0</th>\n",
       "      <td>1.0</td>\n",
       "      <td>0.0</td>\n",
       "      <td>4</td>\n",
       "      <td>2</td>\n",
       "      <td>100000</td>\n",
       "      <td>100</td>\n",
       "      <td>8</td>\n",
       "    </tr>\n",
       "  </tbody>\n",
       "</table>\n",
       "</div>"
      ],
      "text/plain": [
       "   make_model  Gearing_Type  Gears  age      km  hp_kW  Comfort_Convenience\n",
       "0         1.0           0.0      4    2  100000    100                    8"
      ]
     },
     "execution_count": 68,
     "metadata": {},
     "output_type": "execute_result"
    }
   ],
   "source": [
    "df2"
   ]
  },
  {
   "cell_type": "code",
   "execution_count": 69,
   "id": "d2005ba4",
   "metadata": {},
   "outputs": [
    {
     "data": {
      "text/plain": [
       "array([17941.17])"
      ]
     },
     "execution_count": 69,
     "metadata": {},
     "output_type": "execute_result"
    }
   ],
   "source": [
    "prediction = my_model.predict(df2)\n",
    "prediction"
   ]
  },
  {
   "cell_type": "code",
   "execution_count": 70,
   "id": "608fbe89",
   "metadata": {},
   "outputs": [
    {
     "name": "stdout",
     "output_type": "stream",
     "text": [
      "The estimated price of your car is €17941. \n"
     ]
    }
   ],
   "source": [
    "print(\"The estimated price of your car is €{}. \".format(int(prediction[0])))"
   ]
  },
  {
   "cell_type": "markdown",
   "id": "0e932b08",
   "metadata": {},
   "source": [
    "# 5. Import AWS "
   ]
  },
  {
   "cell_type": "code",
   "execution_count": 93,
   "id": "ac66dfc1",
   "metadata": {},
   "outputs": [],
   "source": [
    "#Saving train and validation csv files into S3 bucket\n",
    "\n",
    "import sagemaker, boto3"
   ]
  },
  {
   "cell_type": "code",
   "execution_count": 97,
   "id": "c8c826cb",
   "metadata": {},
   "outputs": [],
   "source": [
    "bucket = 'jiyeon-de05-inclass'\n",
    "prefix = 'sagemaker-carprice' "
   ]
  },
  {
   "cell_type": "code",
   "execution_count": 98,
   "id": "845bf1f6",
   "metadata": {},
   "outputs": [],
   "source": [
    "# Loading train and validation datasets into S3 bucket.\n",
    "boto3.Session().resource('s3').Bucket(bucket).Object(prefix + '/data/train.csv').upload_file('train.csv')\n",
    "boto3.Session().resource('s3').Bucket(bucket).Object(prefix + '/data/validation.csv').upload_file('validation.csv')"
   ]
  },
  {
   "cell_type": "code",
   "execution_count": 99,
   "id": "d60bd6df",
   "metadata": {},
   "outputs": [
    {
     "name": "stdout",
     "output_type": "stream",
     "text": [
      "2023-09-02 04:21:36     406002 sagemaker-carprice/data/train.csv\r\n",
      "2023-09-02 04:21:36     135319 sagemaker-carprice/data/validation.csv\r\n"
     ]
    }
   ],
   "source": [
    "# Checking the lists of objects in bucket\n",
    "# We can check them also from AWS S3 console\n",
    "\n",
    "! aws s3 ls {bucket}/{prefix}/data --recursive"
   ]
  },
  {
   "cell_type": "markdown",
   "id": "b7fd725a",
   "metadata": {},
   "source": [
    "## Train the Model"
   ]
  },
  {
   "cell_type": "code",
   "execution_count": 100,
   "id": "0d7ada8b",
   "metadata": {},
   "outputs": [
    {
     "name": "stdout",
     "output_type": "stream",
     "text": [
      "AWS Region: us-east-1\n",
      "RoleArn:arn:aws:iam::249644531649:role/service-role/AmazonSageMaker-ExecutionRole-20230828T151865\n"
     ]
    }
   ],
   "source": [
    "# Defining the region and role variables which will be used for the connection to the AWS. \n",
    "region = sagemaker.Session().boto_region_name  # region = boto3.Session().region_name\n",
    "print(\"AWS Region: {}\".format(region))\n",
    "\n",
    "role = sagemaker.get_execution_role()\n",
    "print(\"RoleArn:{}\".format(role))"
   ]
  },
  {
   "cell_type": "code",
   "execution_count": 101,
   "id": "0b39c24b",
   "metadata": {},
   "outputs": [
    {
     "data": {
      "text/plain": [
       "'s3://jiyeon-de05-inclass/sagemaker-carprice/output'"
      ]
     },
     "execution_count": 101,
     "metadata": {},
     "output_type": "execute_result"
    }
   ],
   "source": [
    "s3_output_location = 's3://{}/{}/{}'.format(bucket, prefix, 'output') \n",
    "s3_output_location"
   ]
  },
  {
   "cell_type": "code",
   "execution_count": 102,
   "id": "ed73f413",
   "metadata": {},
   "outputs": [
    {
     "name": "stdout",
     "output_type": "stream",
     "text": [
      "811284229777.dkr.ecr.us-east-1.amazonaws.com/xgboost:latest\n"
     ]
    }
   ],
   "source": [
    "container = sagemaker.image_uris.retrieve(\"xgboost\", region, version=\"latest\")\n",
    "print(container)"
   ]
  },
  {
   "cell_type": "code",
   "execution_count": 103,
   "id": "29e0bd7d",
   "metadata": {},
   "outputs": [],
   "source": [
    "xgb_model = sagemaker.estimator.Estimator(container,  # model algorithm\n",
    "                                          role,  # role to connect AWS\n",
    "                                          base_job_name=\"jiyeon-xgboost-test\",  # training job name (if it is none, sagemaker gives a name automatically)\n",
    "                                          instance_count=1,  # the number of EC2 that will be used for training\n",
    "                                          instance_type='ml.m4.xlarge', # type of EC2\n",
    "                                          volume_size = 1,  # EC2 EBS volume size\n",
    "                                          output_path = s3_output_location,  # output path in which training outputs will be saved\n",
    "                                          sagemaker_session=sagemaker.Session(),  # sagemaker session for training job\n",
    "                                          )"
   ]
  },
  {
   "cell_type": "code",
   "execution_count": 104,
   "id": "e12bfd2c",
   "metadata": {},
   "outputs": [],
   "source": [
    "xgb_model.set_hyperparameters(max_depth=2,\n",
    "                              eta=0.2,\n",
    "                              scale_pos_weight= 1.9149797570850202,  # it is the ratio of number of the class zero to the class one\n",
    "                              num_round=100,\n",
    "                              objective = 'binary:logistic',  # objective = \"reg:logistic\"\n",
    "                              early_stopping_rounds=10)"
   ]
  },
  {
   "cell_type": "code",
   "execution_count": 105,
   "id": "94a22361",
   "metadata": {},
   "outputs": [],
   "source": [
    "# Import training input method which will be used to prepare train and validation data before model training\n",
    "from sagemaker.session import TrainingInput\n",
    "\n",
    "# Preparing train and validation data for model training \n",
    "train_input = TrainingInput('s3://{}/{}/{}'.format(bucket, prefix, 'data/train.csv'), content_type='csv')\n",
    "validation_input = TrainingInput('s3://{}/{}/{}'.format(bucket, prefix, 'data/validation.csv'), content_type='csv')"
   ]
  },
  {
   "cell_type": "code",
   "execution_count": 106,
   "id": "07e7450e",
   "metadata": {},
   "outputs": [],
   "source": [
    "# Convert the data we prepared into dictionary format for model training\n",
    "data_channels = {'train': train_input, 'validation': validation_input}"
   ]
  },
  {
   "cell_type": "code",
   "execution_count": 107,
   "id": "dc7806dd",
   "metadata": {},
   "outputs": [
    {
     "name": "stderr",
     "output_type": "stream",
     "text": [
      "INFO:sagemaker:Creating training-job with name: jiyeon-xgboost-test-2023-09-02-04-22-34-668\n"
     ]
    },
    {
     "name": "stdout",
     "output_type": "stream",
     "text": [
      "2023-09-02 04:22:35 Starting - Starting the training job...\n",
      "2023-09-02 04:23:01 Starting - Preparing the instances for training.........\n",
      "2023-09-02 04:24:19 Downloading - Downloading input data...\n",
      "2023-09-02 04:24:49 Training - Downloading the training image...\n",
      "2023-09-02 04:25:24 Training - Training image download completed. Training in progress...\u001b[34mArguments: train\u001b[0m\n",
      "\u001b[34m[2023-09-02:04:25:38:INFO] Running standalone xgboost training.\u001b[0m\n",
      "\u001b[34m[2023-09-02:04:25:38:INFO] File size need to be processed in the node: 0.52mb. Available memory size in the node: 8547.82mb\u001b[0m\n",
      "\u001b[34m[2023-09-02:04:25:38:INFO] Determined delimiter of CSV input is ','\u001b[0m\n",
      "\u001b[34m[04:25:38] S3DistributionType set as FullyReplicated\u001b[0m\n",
      "\u001b[34m[04:25:38] 10680x7 matrix with 74760 entries loaded from /opt/ml/input/data/train?format=csv&label_column=0&delimiter=,\u001b[0m\n",
      "\u001b[34m[2023-09-02:04:25:38:INFO] Determined delimiter of CSV input is ','\u001b[0m\n",
      "\u001b[34m[04:25:38] S3DistributionType set as FullyReplicated\u001b[0m\n",
      "\u001b[34m[04:25:38] 3561x7 matrix with 24927 entries loaded from /opt/ml/input/data/validation?format=csv&label_column=0&delimiter=,\u001b[0m\n",
      "\u001b[34m[2023-09-02:04:25:38:ERROR] Customer Error: Label must be in [0,1] for logistic regression task. If input is in csv format, ensure the first column is the label.\u001b[0m\n",
      "\u001b[34mTraceback (most recent call last):\n",
      "  File \"/opt/amazon/lib/python3.7/site-packages/sage_xgboost/train_helper.py\", line 344, in train_job\n",
      "    early_stopping_rounds=early_stopping_rounds)\n",
      "  File \"/usr/local/lib/python3.7/site-packages/xgboost-0.71-py3.7.egg/xgboost/training.py\", line 204, in train\n",
      "    xgb_model=xgb_model, callbacks=callbacks)\n",
      "  File \"/usr/local/lib/python3.7/site-packages/xgboost-0.71-py3.7.egg/xgboost/training.py\", line 74, in _train_internal\n",
      "    bst.update(dtrain, i, obj)\n",
      "  File \"/usr/local/lib/python3.7/site-packages/xgboost-0.71-py3.7.egg/xgboost/core.py\", line 887, in update\n",
      "    dtrain.handle))\n",
      "  File \"/usr/local/lib/python3.7/site-packages/xgboost-0.71-py3.7.egg/xgboost/core.py\", line 131, in _check_call\n",
      "    raise XGBoostError(_LIB.XGBGetLastError())\u001b[0m\n",
      "\u001b[34mxgboost.core.XGBoostError: b'[04:25:38] src/objective/regression_obj.cc:98: Check failed: Loss::CheckLabel(y) label must be in [0,1] for logistic regression\\n\\nStack trace returned 10 entries:\\n[bt] (0) /usr/local/lib/python3.7/site-packages/xgboost-0.71-py3.7.egg/xgboost/libxgboost.so(dmlc::StackTrace[abi:cxx11]()+0x3b) [0x7f3262abdbbb]\\n[bt] (1) /usr/local/lib/python3.7/site-packages/xgboost-0.71-py3.7.egg/xgboost/libxgboost.so(dmlc::LogMessageFatal::~LogMessageFatal()+0x29) [0x7f3262abe2f9]\\n[bt] (2) /usr/local/lib/python3.7/site-packages/xgboost-0.71-py3.7.egg/xgboost/libxgboost.so(xgboost::obj::RegLossObj<xgboost::obj::LogisticClassification>::GetGradient(xgboost::HostDeviceVector<float>*, xgboost::MetaInfo const&, int, xgboost::HostDeviceVector<xgboost::detail::GradientPairInternal<float> >*)+0x337) [0x7f3262b58e57]\\n[bt] (3) /usr/local/lib/python3.7/site-packages/xgboost-0.71-py3.7.egg/xgboost/libxgboost.so(xgboost::LearnerImpl::UpdateOneIter(int, xgboost::DMatrix*)+0x1bb) [0x7f3262ac7feb]\\n[bt] (4) /usr/local/lib/python3.7/site-packages/xgboost-0.71-py3.7.egg/xgboost/libxgboost.so(XGBoosterUpdateOneIter+0x27) [0x7f3262c32447]\\n[bt] (5) /opt/amazon/lib/libffi.so.6(ffi_call_unix64+0x4c) [0x7f326eef3078]\\n[bt] (6) /opt/amazon/lib/libffi.so.6(ffi_call+0x186) [0x7f326eef2206]\\n[bt] (7) /opt/amazon/python3.7/lib/python3.7/lib-dynload/_ctypes.cpython-37m-x86_64-linux-gnu.so(_ctypes_callproc+0x2a9) [0x7f326ef08909]\\n[bt] (8) /opt/amazon/python3.7/lib/python3.7/lib-dynload/_ctypes.cpython-37m-x86_64-linux-gnu.so(+0x911c) [0x7f326ef0011c]\\n[bt] (9) /opt/amazon/python3.7/lib/libpython3.7m.so.1.0(_PyObject_FastCallKeywords+0xc3) [0x7f327083f653]\\n\\n'\u001b[0m\n",
      "\u001b[34mDuring handling of the above exception, another exception occurred:\u001b[0m\n",
      "\u001b[34mTraceback (most recent call last):\n",
      "  File \"/opt/amazon/lib/python3.7/site-packages/sage_xgboost/train.py\", line 41, in main\n",
      "    standalone_train(resource_config, train_config, data_config)\n",
      "  File \"/opt/amazon/lib/python3.7/site-packages/sage_xgboost/train_methods.py\", line 17, in standalone_train\n",
      "    train_job(resource_config, train_config, data_config)\n",
      "  File \"/opt/amazon/lib/python3.7/site-packages/sage_xgboost/train_helper.py\", line 350, in train_job\n",
      "    \"Label must be in [0,1] for logistic regression task. If input is in csv format, ensure the first \"\u001b[0m\n",
      "\u001b[34msg_algorithms_sdk.base.exceptions.CustomerError: Label must be in [0,1] for logistic regression task. If input is in csv format, ensure the first column is the label.\u001b[0m\n",
      "\n",
      "2023-09-02 04:25:45 Uploading - Uploading generated training model\n",
      "2023-09-02 04:27:04 Failed - Training job failed\n"
     ]
    },
    {
     "ename": "UnexpectedStatusException",
     "evalue": "Error for Training job jiyeon-xgboost-test-2023-09-02-04-22-34-668: Failed. Reason: ClientError: Label must be in [0,1] for logistic regression task. If input is in csv format, ensure the first column is the label., exit code: 1",
     "output_type": "error",
     "traceback": [
      "\u001b[0;31m---------------------------------------------------------------------------\u001b[0m",
      "\u001b[0;31mUnexpectedStatusException\u001b[0m                 Traceback (most recent call last)",
      "Cell \u001b[0;32mIn[107], line 2\u001b[0m\n\u001b[1;32m      1\u001b[0m \u001b[38;5;66;03m# Model training with data_channels. At this step training jobs will be created.\u001b[39;00m\n\u001b[0;32m----> 2\u001b[0m \u001b[43mxgb_model\u001b[49m\u001b[38;5;241;43m.\u001b[39;49m\u001b[43mfit\u001b[49m\u001b[43m(\u001b[49m\u001b[43mdata_channels\u001b[49m\u001b[43m)\u001b[49m\n\u001b[1;32m      4\u001b[0m \u001b[38;5;66;03m# Let's check whether training job is created or not from AWS console.\u001b[39;00m\n\u001b[1;32m      5\u001b[0m \n\u001b[1;32m      6\u001b[0m \u001b[38;5;66;03m# Let's check whether the output(model.tar.gz) occurs when training job is completed.\u001b[39;00m\n",
      "File \u001b[0;32m~/anaconda3/envs/python3/lib/python3.10/site-packages/sagemaker/workflow/pipeline_context.py:311\u001b[0m, in \u001b[0;36mrunnable_by_pipeline.<locals>.wrapper\u001b[0;34m(*args, **kwargs)\u001b[0m\n\u001b[1;32m    307\u001b[0m         \u001b[38;5;28;01mreturn\u001b[39;00m context\n\u001b[1;32m    309\u001b[0m     \u001b[38;5;28;01mreturn\u001b[39;00m _StepArguments(retrieve_caller_name(self_instance), run_func, \u001b[38;5;241m*\u001b[39margs, \u001b[38;5;241m*\u001b[39m\u001b[38;5;241m*\u001b[39mkwargs)\n\u001b[0;32m--> 311\u001b[0m \u001b[38;5;28;01mreturn\u001b[39;00m \u001b[43mrun_func\u001b[49m\u001b[43m(\u001b[49m\u001b[38;5;241;43m*\u001b[39;49m\u001b[43margs\u001b[49m\u001b[43m,\u001b[49m\u001b[43m \u001b[49m\u001b[38;5;241;43m*\u001b[39;49m\u001b[38;5;241;43m*\u001b[39;49m\u001b[43mkwargs\u001b[49m\u001b[43m)\u001b[49m\n",
      "File \u001b[0;32m~/anaconda3/envs/python3/lib/python3.10/site-packages/sagemaker/estimator.py:1296\u001b[0m, in \u001b[0;36mEstimatorBase.fit\u001b[0;34m(self, inputs, wait, logs, job_name, experiment_config)\u001b[0m\n\u001b[1;32m   1294\u001b[0m \u001b[38;5;28mself\u001b[39m\u001b[38;5;241m.\u001b[39mjobs\u001b[38;5;241m.\u001b[39mappend(\u001b[38;5;28mself\u001b[39m\u001b[38;5;241m.\u001b[39mlatest_training_job)\n\u001b[1;32m   1295\u001b[0m \u001b[38;5;28;01mif\u001b[39;00m wait:\n\u001b[0;32m-> 1296\u001b[0m     \u001b[38;5;28;43mself\u001b[39;49m\u001b[38;5;241;43m.\u001b[39;49m\u001b[43mlatest_training_job\u001b[49m\u001b[38;5;241;43m.\u001b[39;49m\u001b[43mwait\u001b[49m\u001b[43m(\u001b[49m\u001b[43mlogs\u001b[49m\u001b[38;5;241;43m=\u001b[39;49m\u001b[43mlogs\u001b[49m\u001b[43m)\u001b[49m\n",
      "File \u001b[0;32m~/anaconda3/envs/python3/lib/python3.10/site-packages/sagemaker/estimator.py:2499\u001b[0m, in \u001b[0;36m_TrainingJob.wait\u001b[0;34m(self, logs)\u001b[0m\n\u001b[1;32m   2497\u001b[0m \u001b[38;5;66;03m# If logs are requested, call logs_for_jobs.\u001b[39;00m\n\u001b[1;32m   2498\u001b[0m \u001b[38;5;28;01mif\u001b[39;00m logs \u001b[38;5;241m!=\u001b[39m \u001b[38;5;124m\"\u001b[39m\u001b[38;5;124mNone\u001b[39m\u001b[38;5;124m\"\u001b[39m:\n\u001b[0;32m-> 2499\u001b[0m     \u001b[38;5;28;43mself\u001b[39;49m\u001b[38;5;241;43m.\u001b[39;49m\u001b[43msagemaker_session\u001b[49m\u001b[38;5;241;43m.\u001b[39;49m\u001b[43mlogs_for_job\u001b[49m\u001b[43m(\u001b[49m\u001b[38;5;28;43mself\u001b[39;49m\u001b[38;5;241;43m.\u001b[39;49m\u001b[43mjob_name\u001b[49m\u001b[43m,\u001b[49m\u001b[43m \u001b[49m\u001b[43mwait\u001b[49m\u001b[38;5;241;43m=\u001b[39;49m\u001b[38;5;28;43;01mTrue\u001b[39;49;00m\u001b[43m,\u001b[49m\u001b[43m \u001b[49m\u001b[43mlog_type\u001b[49m\u001b[38;5;241;43m=\u001b[39;49m\u001b[43mlogs\u001b[49m\u001b[43m)\u001b[49m\n\u001b[1;32m   2500\u001b[0m \u001b[38;5;28;01melse\u001b[39;00m:\n\u001b[1;32m   2501\u001b[0m     \u001b[38;5;28mself\u001b[39m\u001b[38;5;241m.\u001b[39msagemaker_session\u001b[38;5;241m.\u001b[39mwait_for_job(\u001b[38;5;28mself\u001b[39m\u001b[38;5;241m.\u001b[39mjob_name)\n",
      "File \u001b[0;32m~/anaconda3/envs/python3/lib/python3.10/site-packages/sagemaker/session.py:4849\u001b[0m, in \u001b[0;36mSession.logs_for_job\u001b[0;34m(self, job_name, wait, poll, log_type, timeout)\u001b[0m\n\u001b[1;32m   4828\u001b[0m \u001b[38;5;28;01mdef\u001b[39;00m \u001b[38;5;21mlogs_for_job\u001b[39m(\u001b[38;5;28mself\u001b[39m, job_name, wait\u001b[38;5;241m=\u001b[39m\u001b[38;5;28;01mFalse\u001b[39;00m, poll\u001b[38;5;241m=\u001b[39m\u001b[38;5;241m10\u001b[39m, log_type\u001b[38;5;241m=\u001b[39m\u001b[38;5;124m\"\u001b[39m\u001b[38;5;124mAll\u001b[39m\u001b[38;5;124m\"\u001b[39m, timeout\u001b[38;5;241m=\u001b[39m\u001b[38;5;28;01mNone\u001b[39;00m):\n\u001b[1;32m   4829\u001b[0m \u001b[38;5;250m    \u001b[39m\u001b[38;5;124;03m\"\"\"Display logs for a given training job, optionally tailing them until job is complete.\u001b[39;00m\n\u001b[1;32m   4830\u001b[0m \n\u001b[1;32m   4831\u001b[0m \u001b[38;5;124;03m    If the output is a tty or a Jupyter cell, it will be color-coded\u001b[39;00m\n\u001b[0;32m   (...)\u001b[0m\n\u001b[1;32m   4847\u001b[0m \u001b[38;5;124;03m        exceptions.UnexpectedStatusException: If waiting and the training job fails.\u001b[39;00m\n\u001b[1;32m   4848\u001b[0m \u001b[38;5;124;03m    \"\"\"\u001b[39;00m\n\u001b[0;32m-> 4849\u001b[0m     \u001b[43m_logs_for_job\u001b[49m\u001b[43m(\u001b[49m\u001b[38;5;28;43mself\u001b[39;49m\u001b[38;5;241;43m.\u001b[39;49m\u001b[43mboto_session\u001b[49m\u001b[43m,\u001b[49m\u001b[43m \u001b[49m\u001b[43mjob_name\u001b[49m\u001b[43m,\u001b[49m\u001b[43m \u001b[49m\u001b[43mwait\u001b[49m\u001b[43m,\u001b[49m\u001b[43m \u001b[49m\u001b[43mpoll\u001b[49m\u001b[43m,\u001b[49m\u001b[43m \u001b[49m\u001b[43mlog_type\u001b[49m\u001b[43m,\u001b[49m\u001b[43m \u001b[49m\u001b[43mtimeout\u001b[49m\u001b[43m)\u001b[49m\n",
      "File \u001b[0;32m~/anaconda3/envs/python3/lib/python3.10/site-packages/sagemaker/session.py:6760\u001b[0m, in \u001b[0;36m_logs_for_job\u001b[0;34m(boto_session, job_name, wait, poll, log_type, timeout)\u001b[0m\n\u001b[1;32m   6757\u001b[0m             last_profiler_rule_statuses \u001b[38;5;241m=\u001b[39m profiler_rule_statuses\n\u001b[1;32m   6759\u001b[0m \u001b[38;5;28;01mif\u001b[39;00m wait:\n\u001b[0;32m-> 6760\u001b[0m     \u001b[43m_check_job_status\u001b[49m\u001b[43m(\u001b[49m\u001b[43mjob_name\u001b[49m\u001b[43m,\u001b[49m\u001b[43m \u001b[49m\u001b[43mdescription\u001b[49m\u001b[43m,\u001b[49m\u001b[43m \u001b[49m\u001b[38;5;124;43m\"\u001b[39;49m\u001b[38;5;124;43mTrainingJobStatus\u001b[39;49m\u001b[38;5;124;43m\"\u001b[39;49m\u001b[43m)\u001b[49m\n\u001b[1;32m   6761\u001b[0m     \u001b[38;5;28;01mif\u001b[39;00m dot:\n\u001b[1;32m   6762\u001b[0m         \u001b[38;5;28mprint\u001b[39m()\n",
      "File \u001b[0;32m~/anaconda3/envs/python3/lib/python3.10/site-packages/sagemaker/session.py:6813\u001b[0m, in \u001b[0;36m_check_job_status\u001b[0;34m(job, desc, status_key_name)\u001b[0m\n\u001b[1;32m   6807\u001b[0m \u001b[38;5;28;01mif\u001b[39;00m \u001b[38;5;124m\"\u001b[39m\u001b[38;5;124mCapacityError\u001b[39m\u001b[38;5;124m\"\u001b[39m \u001b[38;5;129;01min\u001b[39;00m \u001b[38;5;28mstr\u001b[39m(reason):\n\u001b[1;32m   6808\u001b[0m     \u001b[38;5;28;01mraise\u001b[39;00m exceptions\u001b[38;5;241m.\u001b[39mCapacityError(\n\u001b[1;32m   6809\u001b[0m         message\u001b[38;5;241m=\u001b[39mmessage,\n\u001b[1;32m   6810\u001b[0m         allowed_statuses\u001b[38;5;241m=\u001b[39m[\u001b[38;5;124m\"\u001b[39m\u001b[38;5;124mCompleted\u001b[39m\u001b[38;5;124m\"\u001b[39m, \u001b[38;5;124m\"\u001b[39m\u001b[38;5;124mStopped\u001b[39m\u001b[38;5;124m\"\u001b[39m],\n\u001b[1;32m   6811\u001b[0m         actual_status\u001b[38;5;241m=\u001b[39mstatus,\n\u001b[1;32m   6812\u001b[0m     )\n\u001b[0;32m-> 6813\u001b[0m \u001b[38;5;28;01mraise\u001b[39;00m exceptions\u001b[38;5;241m.\u001b[39mUnexpectedStatusException(\n\u001b[1;32m   6814\u001b[0m     message\u001b[38;5;241m=\u001b[39mmessage,\n\u001b[1;32m   6815\u001b[0m     allowed_statuses\u001b[38;5;241m=\u001b[39m[\u001b[38;5;124m\"\u001b[39m\u001b[38;5;124mCompleted\u001b[39m\u001b[38;5;124m\"\u001b[39m, \u001b[38;5;124m\"\u001b[39m\u001b[38;5;124mStopped\u001b[39m\u001b[38;5;124m\"\u001b[39m],\n\u001b[1;32m   6816\u001b[0m     actual_status\u001b[38;5;241m=\u001b[39mstatus,\n\u001b[1;32m   6817\u001b[0m )\n",
      "\u001b[0;31mUnexpectedStatusException\u001b[0m: Error for Training job jiyeon-xgboost-test-2023-09-02-04-22-34-668: Failed. Reason: ClientError: Label must be in [0,1] for logistic regression task. If input is in csv format, ensure the first column is the label., exit code: 1"
     ]
    }
   ],
   "source": [
    "# Model training with data_channels. At this step training jobs will be created.\n",
    "xgb_model.fit(data_channels)\n",
    "\n",
    "# Let's check whether training job is created or not from AWS console.\n",
    "\n",
    "# Let's check whether the output(model.tar.gz) occurs when training job is completed."
   ]
  },
  {
   "cell_type": "markdown",
   "id": "a4654f58",
   "metadata": {},
   "source": [
    "## Creat Endpoint"
   ]
  },
  {
   "cell_type": "code",
   "execution_count": null,
   "id": "2584aae6",
   "metadata": {},
   "outputs": [],
   "source": [
    "# CSVSerializer : Serialize data of various formats to a CSV-formatted string\n",
    "\n",
    "from sagemaker.serializers import CSVSerializer\n",
    "\n",
    "# Deploy the trained model into an endpoint\n",
    "# At this step an endpoint will be created\n",
    "predictor = xgb_model.deploy(initial_instance_count=1,  # the number of EC2 for endpoint\n",
    "                            instance_type='ml.m5.xlarge',  # type of EC2\n",
    "                            serializer = CSVSerializer())  # data format for prediction\n",
    "\n",
    "# Let's check whether endpoint is created."
   ]
  },
  {
   "cell_type": "code",
   "execution_count": null,
   "id": "ca967c9c",
   "metadata": {},
   "outputs": [],
   "source": [
    "# The name of the  endpoint we created\n",
    "\n",
    "endpoint_name = predictor.endpoint_name  # alternatively we can define endpoint name manually: endpoint_name = 'sagemaker-xgboost-2023-01-04-04-05-36-670'\n",
    "endpoint_name"
   ]
  },
  {
   "cell_type": "markdown",
   "id": "b2999777",
   "metadata": {},
   "source": [
    "##  Prediction using Endpoint Name"
   ]
  },
  {
   "cell_type": "code",
   "execution_count": null,
   "id": "30777161",
   "metadata": {},
   "outputs": [],
   "source": [
    "# Reading and preparing the test data as payload for prediction\n",
    "with open('test.csv', 'r') as f:\n",
    "    payload = f.read().strip('\\n')"
   ]
  },
  {
   "cell_type": "code",
   "execution_count": null,
   "id": "0ee1157f",
   "metadata": {},
   "outputs": [],
   "source": [
    "# checking the content of payload\n",
    "payload"
   ]
  },
  {
   "cell_type": "code",
   "execution_count": null,
   "id": "18c122ea",
   "metadata": {},
   "outputs": [],
   "source": [
    "# Create sagemaker runtime object to send request to endpoint and get response\n",
    "\n",
    "sagemaker_runtime = boto3.client(\"sagemaker-runtime\", region_name=boto3.Session().region_name)\n",
    "\n",
    "# Invoke endpoint to get prediction results\n",
    "response = sagemaker_runtime.invoke_endpoint(  \n",
    "                            EndpointName=endpoint_name,  # endpoint name we created (should be unique)\n",
    "                            Body=payload, # prediction data\n",
    "                            ContentType = 'text/csv')  # type of data\n",
    "\n",
    "# Optional - to see prediction result\n",
    "# print(response['Body'].read().decode('utf-8'))"
   ]
  },
  {
   "cell_type": "code",
   "execution_count": null,
   "id": "42f7733d",
   "metadata": {},
   "outputs": [],
   "source": [
    "# The prediction result is in json format and \"Body\" key contains the prediction values.\n",
    "response"
   ]
  },
  {
   "cell_type": "code",
   "execution_count": null,
   "id": "39e86ba0",
   "metadata": {},
   "outputs": [],
   "source": [
    "# prediction results\n",
    "results = response['Body'].read().decode('utf-8')\n",
    "results"
   ]
  },
  {
   "cell_type": "code",
   "execution_count": null,
   "id": "91a9d4e5",
   "metadata": {},
   "outputs": [],
   "source": [
    "# prediction results (probability values for class 1) as numpy array\n",
    "results = np.fromstring(results, sep=',') # sep=',' or '\\n' or ' ' can be used. \n",
    "results"
   ]
  },
  {
   "cell_type": "code",
   "execution_count": null,
   "id": "16f50418",
   "metadata": {},
   "outputs": [],
   "source": [
    "results1 = np.round(results)\n",
    "results1"
   ]
  }
 ],
 "metadata": {
  "kernelspec": {
   "display_name": "conda_python3",
   "language": "python",
   "name": "conda_python3"
  },
  "language_info": {
   "codemirror_mode": {
    "name": "ipython",
    "version": 3
   },
   "file_extension": ".py",
   "mimetype": "text/x-python",
   "name": "python",
   "nbconvert_exporter": "python",
   "pygments_lexer": "ipython3",
   "version": "3.10.12"
  }
 },
 "nbformat": 4,
 "nbformat_minor": 5
}
